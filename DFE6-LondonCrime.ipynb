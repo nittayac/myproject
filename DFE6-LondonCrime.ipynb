{
 "cells": [
  {
   "cell_type": "markdown",
   "metadata": {
    "id": "b-MeKKMs55WA"
   },
   "source": [
    "# Practical Machine Learning \n",
    "### Project: Model Selection"
   ]
  },
  {
   "cell_type": "markdown",
   "metadata": {
    "id": "FEge15Hl55WD"
   },
   "source": [
    "# Abstract"
   ]
  },
  {
   "cell_type": "markdown",
   "metadata": {
    "id": "rmJJOdz955WE"
   },
   "source": [
    "# Part 1: Business and Data Understanding"
   ]
  },
  {
   "cell_type": "markdown",
   "metadata": {
    "id": "K_EWcKs255WG"
   },
   "source": [
    "### Q. Identify a suitable dataset for your canditate question(s)"
   ]
  },
  {
   "cell_type": "markdown",
   "metadata": {
    "id": "NA2qaEL155WH"
   },
   "source": [
    "Go have a look at any of these websites:\n",
    "\n",
    "* https://www.kaggle.com/datasets \n",
    "* https://datasetsearch.research.google.com/\n",
    "* https://data.gov.uk/\n",
    "\n",
    "Find an interesting looking data set related to your problem domain and get a copy of it\n"
   ]
  },
  {
   "cell_type": "code",
   "execution_count": 2,
   "metadata": {
    "id": "HuoWXO_Q55WH"
   },
   "outputs": [],
   "source": [
    "#https://raw.githubusercontent.com/nittayac/banana/main/london-crime.csv"
   ]
  },
  {
   "cell_type": "markdown",
   "metadata": {
    "id": "t6sxB-Op55WF"
   },
   "source": [
    "### Q. Define the problem domain"
   ]
  },
  {
   "cell_type": "markdown",
   "metadata": {
    "id": "KGICUusQ55WF"
   },
   "source": [
    "1. Grouping by the area's latidude and longtitude co-ordinates\n",
    "2. Identify the crime type in each area defimes as often/ sometimes/ rarely happens"
   ]
  },
  {
   "cell_type": "markdown",
   "metadata": {
    "id": "PasUNESl55WG"
   },
   "source": [
    "### Q. Identify candidate questions for your machine learning project"
   ]
  },
  {
   "cell_type": "code",
   "execution_count": 3,
   "metadata": {
    "id": "MgdRmrtq55WG"
   },
   "outputs": [],
   "source": [
    "import pandas as pd\n",
    "import numpy as np\n",
    "from azureml.core import Workspace, Dataset\n",
    "\n",
    "subscription_id = 'c019ba1c-b0b0-44c3-ad54-8f06cceb01c2'\n",
    "resource_group = 'ml20220308'\n",
    "workspace_name = 'labdp100'\n",
    "\n",
    "workspace = Workspace(subscription_id, resource_group, workspace_name)\n",
    "\n",
    "dataset = Dataset.get_by_name(workspace, name='LondonCrime')\n",
    "dfOr = dataset.to_pandas_dataframe()"
   ]
  },
  {
   "cell_type": "code",
   "execution_count": 4,
   "metadata": {},
   "outputs": [],
   "source": [
    "pd.options.mode.chained_assignment = None "
   ]
  },
  {
   "cell_type": "markdown",
   "metadata": {
    "id": "zsCo6Gmf55WH"
   },
   "source": [
    "### Q. Generate a descriptive statistics report for the columns in your dataset"
   ]
  },
  {
   "cell_type": "code",
   "execution_count": 5,
   "metadata": {
    "id": "1uvJKQH755WH"
   },
   "outputs": [
    {
     "data": {
      "text/html": [
       "<div>\n",
       "<style scoped>\n",
       "    .dataframe tbody tr th:only-of-type {\n",
       "        vertical-align: middle;\n",
       "    }\n",
       "\n",
       "    .dataframe tbody tr th {\n",
       "        vertical-align: top;\n",
       "    }\n",
       "\n",
       "    .dataframe thead th {\n",
       "        text-align: right;\n",
       "    }\n",
       "</style>\n",
       "<table border=\"1\" class=\"dataframe\">\n",
       "  <thead>\n",
       "    <tr style=\"text-align: right;\">\n",
       "      <th></th>\n",
       "      <th>Crime ID</th>\n",
       "      <th>Month</th>\n",
       "      <th>Reported by</th>\n",
       "      <th>Falls within</th>\n",
       "      <th>Longitude</th>\n",
       "      <th>Latitude</th>\n",
       "      <th>Location</th>\n",
       "      <th>LSOA code</th>\n",
       "      <th>LSOA name</th>\n",
       "      <th>Crime type</th>\n",
       "      <th>Last outcome category</th>\n",
       "      <th>Context</th>\n",
       "    </tr>\n",
       "  </thead>\n",
       "  <tbody>\n",
       "    <tr>\n",
       "      <th>0</th>\n",
       "      <td>None</td>\n",
       "      <td>2016-10</td>\n",
       "      <td>City of London Police</td>\n",
       "      <td>City of London Police</td>\n",
       "      <td>-0.111497</td>\n",
       "      <td>51.518226</td>\n",
       "      <td>On or near Pedestrian Subway</td>\n",
       "      <td>E01000914</td>\n",
       "      <td>Camden 028B</td>\n",
       "      <td>Anti-social behaviour</td>\n",
       "      <td>None</td>\n",
       "      <td>None</td>\n",
       "    </tr>\n",
       "    <tr>\n",
       "      <th>1</th>\n",
       "      <td>None</td>\n",
       "      <td>2016-10</td>\n",
       "      <td>City of London Police</td>\n",
       "      <td>City of London Police</td>\n",
       "      <td>-0.097277</td>\n",
       "      <td>51.515307</td>\n",
       "      <td>On or near St Martin'S Le Grand</td>\n",
       "      <td>E01000001</td>\n",
       "      <td>City of London 001A</td>\n",
       "      <td>Anti-social behaviour</td>\n",
       "      <td>None</td>\n",
       "      <td>None</td>\n",
       "    </tr>\n",
       "    <tr>\n",
       "      <th>2</th>\n",
       "      <td>None</td>\n",
       "      <td>2016-10</td>\n",
       "      <td>City of London Police</td>\n",
       "      <td>City of London Police</td>\n",
       "      <td>-0.097409</td>\n",
       "      <td>51.521145</td>\n",
       "      <td>On or near Goswell Road</td>\n",
       "      <td>E01000001</td>\n",
       "      <td>City of London 001A</td>\n",
       "      <td>Anti-social behaviour</td>\n",
       "      <td>None</td>\n",
       "      <td>None</td>\n",
       "    </tr>\n",
       "    <tr>\n",
       "      <th>3</th>\n",
       "      <td>None</td>\n",
       "      <td>2016-10</td>\n",
       "      <td>City of London Police</td>\n",
       "      <td>City of London Police</td>\n",
       "      <td>-0.097562</td>\n",
       "      <td>51.518864</td>\n",
       "      <td>On or near Parking Area</td>\n",
       "      <td>E01000001</td>\n",
       "      <td>City of London 001A</td>\n",
       "      <td>Anti-social behaviour</td>\n",
       "      <td>None</td>\n",
       "      <td>None</td>\n",
       "    </tr>\n",
       "    <tr>\n",
       "      <th>4</th>\n",
       "      <td>None</td>\n",
       "      <td>2016-10</td>\n",
       "      <td>City of London Police</td>\n",
       "      <td>City of London Police</td>\n",
       "      <td>-0.097277</td>\n",
       "      <td>51.515307</td>\n",
       "      <td>On or near St Martin'S Le Grand</td>\n",
       "      <td>E01000001</td>\n",
       "      <td>City of London 001A</td>\n",
       "      <td>Anti-social behaviour</td>\n",
       "      <td>None</td>\n",
       "      <td>None</td>\n",
       "    </tr>\n",
       "  </tbody>\n",
       "</table>\n",
       "</div>"
      ],
      "text/plain": [
       "  Crime ID    Month            Reported by           Falls within  Longitude  \\\n",
       "0     None  2016-10  City of London Police  City of London Police  -0.111497   \n",
       "1     None  2016-10  City of London Police  City of London Police  -0.097277   \n",
       "2     None  2016-10  City of London Police  City of London Police  -0.097409   \n",
       "3     None  2016-10  City of London Police  City of London Police  -0.097562   \n",
       "4     None  2016-10  City of London Police  City of London Police  -0.097277   \n",
       "\n",
       "    Latitude                         Location  LSOA code            LSOA name  \\\n",
       "0  51.518226     On or near Pedestrian Subway  E01000914          Camden 028B   \n",
       "1  51.515307  On or near St Martin'S Le Grand  E01000001  City of London 001A   \n",
       "2  51.521145          On or near Goswell Road  E01000001  City of London 001A   \n",
       "3  51.518864          On or near Parking Area  E01000001  City of London 001A   \n",
       "4  51.515307  On or near St Martin'S Le Grand  E01000001  City of London 001A   \n",
       "\n",
       "              Crime type Last outcome category Context  \n",
       "0  Anti-social behaviour                  None    None  \n",
       "1  Anti-social behaviour                  None    None  \n",
       "2  Anti-social behaviour                  None    None  \n",
       "3  Anti-social behaviour                  None    None  \n",
       "4  Anti-social behaviour                  None    None  "
      ]
     },
     "execution_count": 5,
     "metadata": {},
     "output_type": "execute_result"
    }
   ],
   "source": [
    "dfOr.head()"
   ]
  },
  {
   "cell_type": "code",
   "execution_count": 6,
   "metadata": {},
   "outputs": [
    {
     "name": "stdout",
     "output_type": "stream",
     "text": [
      "<class 'pandas.core.frame.DataFrame'>\n",
      "RangeIndex: 24957 entries, 0 to 24956\n",
      "Data columns (total 12 columns):\n",
      " #   Column                 Non-Null Count  Dtype  \n",
      "---  ------                 --------------  -----  \n",
      " 0   Crime ID               20599 non-null  object \n",
      " 1   Month                  24957 non-null  object \n",
      " 2   Reported by            24957 non-null  object \n",
      " 3   Falls within           24957 non-null  object \n",
      " 4   Longitude              23434 non-null  float64\n",
      " 5   Latitude               23434 non-null  float64\n",
      " 6   Location               24957 non-null  object \n",
      " 7   LSOA code              23469 non-null  object \n",
      " 8   LSOA name              23469 non-null  object \n",
      " 9   Crime type             24957 non-null  object \n",
      " 10  Last outcome category  20599 non-null  object \n",
      " 11  Context                35 non-null     object \n",
      "dtypes: float64(2), object(10)\n",
      "memory usage: 2.3+ MB\n"
     ]
    }
   ],
   "source": [
    "dfOr.info()"
   ]
  },
  {
   "cell_type": "code",
   "execution_count": 7,
   "metadata": {},
   "outputs": [
    {
     "name": "stdout",
     "output_type": "stream",
     "text": [
      "Crime ID : 20462\n",
      "Month : 37\n",
      "Reported by : 2\n",
      "Falls within : 2\n",
      "Longitude : 631\n",
      "Latitude : 621\n",
      "Location : 435\n",
      "LSOA code : 103\n",
      "LSOA name : 103\n",
      "Crime type : 15\n",
      "Last outcome category : 26\n",
      "Context : 1\n"
     ]
    }
   ],
   "source": [
    "for i in dfOr.columns:  \n",
    "    print(f\"{i} : { dfOr[i].value_counts().count()}\")"
   ]
  },
  {
   "cell_type": "code",
   "execution_count": 8,
   "metadata": {},
   "outputs": [
    {
     "name": "stdout",
     "output_type": "stream",
     "text": [
      "Reported by : ['City of London Police' 'Reported by']\n",
      "\n",
      "Falls within : ['City of London Police' 'Falls within']\n",
      "\n",
      "Crime type : ['Anti-social behaviour' 'Bicycle theft' 'Burglary'\n",
      " 'Criminal damage and arson' 'Other theft' 'Shoplifting' 'Vehicle crime'\n",
      " 'Public order' 'Theft from the person' 'Drugs'\n",
      " 'Violence and sexual offences' 'Other crime' 'Possession of weapons'\n",
      " 'Crime type' 'Robbery']\n",
      "\n",
      "Context : [None 'Context']\n",
      "\n",
      "Last outcome category : [None 'Investigation complete; no suspect identified'\n",
      " 'Court result unavailable' 'Offender given suspended prison sentence'\n",
      " 'Unable to prosecute suspect' 'Status update unavailable'\n",
      " 'Defendant found not guilty' 'Offender given a caution'\n",
      " 'Offender sent to prison' 'Offender otherwise dealt with'\n",
      " 'Offender fined' 'Offender given community sentence'\n",
      " 'Further investigation is not in the public interest' 'Local resolution'\n",
      " 'Court case unable to proceed' 'Offender given conditional discharge'\n",
      " 'Formal action is not in the public interest'\n",
      " 'Offender ordered to pay compensation' 'Last outcome category'\n",
      " 'Offender given a drugs possession warning'\n",
      " 'Offender given penalty notice' 'Offender deprived of property'\n",
      " 'Action to be taken by another organisation'\n",
      " 'Suspect charged as part of another case' 'Defendant sent to Crown Court'\n",
      " 'Awaiting court outcome' 'Under investigation']\n",
      "\n"
     ]
    }
   ],
   "source": [
    "for i in  ['Reported by','Falls within','Crime type','Context','Last outcome category']:  \n",
    "    print(f\"{i} : { dfOr[i].unique()}\")\n",
    "    print()"
   ]
  },
  {
   "cell_type": "code",
   "execution_count": 9,
   "metadata": {},
   "outputs": [],
   "source": [
    "dfOr = dfOr[~(dfOr['Context'] == 'Context')]"
   ]
  },
  {
   "cell_type": "code",
   "execution_count": 10,
   "metadata": {},
   "outputs": [
    {
     "data": {
      "text/plain": [
       "array(['Anti-social behaviour'], dtype=object)"
      ]
     },
     "execution_count": 10,
     "metadata": {},
     "output_type": "execute_result"
    }
   ],
   "source": [
    "#check relationship between Last outcome category and Crime type\n",
    "df1 = dfOr[dfOr['Last outcome category'].isna()]\n",
    "df1[\"Crime type\"].unique()"
   ]
  },
  {
   "cell_type": "code",
   "execution_count": 11,
   "metadata": {},
   "outputs": [],
   "source": [
    "#Fill na \n",
    "dfOr.fillna(value={'Last outcome category':'Anti-social behaviour'},inplace = True)"
   ]
  },
  {
   "cell_type": "markdown",
   "metadata": {
    "id": "toYhhJ4v55WI"
   },
   "source": [
    "# Part 2: Data Preparation"
   ]
  },
  {
   "cell_type": "markdown",
   "metadata": {
    "id": "zUDh9O2T55WI"
   },
   "source": [
    "### Q. Discuss the following types of missing data and how they would be handled in reference to your dataset where applicable.\n",
    "*\tMissing completely at random (MCAR)\n",
    "*\tMissing at random (MAR)\n",
    "*\tMissing Not at Random (MNAR)"
   ]
  },
  {
   "cell_type": "markdown",
   "metadata": {
    "id": "Z-_eDG2e_C2W"
   },
   "source": [
    "Q. Is there any correlation in the data? How would you decide which columns to keep?"
   ]
  },
  {
   "cell_type": "code",
   "execution_count": 12,
   "metadata": {
    "id": "_eRjAQ6u_CHm"
   },
   "outputs": [],
   "source": [
    "for i in  ['Reported by','Falls within','Context']:  \n",
    "    dfOr.drop([i], axis=1, inplace= True)"
   ]
  },
  {
   "cell_type": "code",
   "execution_count": 13,
   "metadata": {},
   "outputs": [
    {
     "data": {
      "text/html": [
       "<div>\n",
       "<style scoped>\n",
       "    .dataframe tbody tr th:only-of-type {\n",
       "        vertical-align: middle;\n",
       "    }\n",
       "\n",
       "    .dataframe tbody tr th {\n",
       "        vertical-align: top;\n",
       "    }\n",
       "\n",
       "    .dataframe thead th {\n",
       "        text-align: right;\n",
       "    }\n",
       "</style>\n",
       "<table border=\"1\" class=\"dataframe\">\n",
       "  <thead>\n",
       "    <tr style=\"text-align: right;\">\n",
       "      <th></th>\n",
       "      <th>Crime ID</th>\n",
       "      <th>Month</th>\n",
       "      <th>Longitude</th>\n",
       "      <th>Latitude</th>\n",
       "      <th>Location</th>\n",
       "      <th>LSOA code</th>\n",
       "      <th>LSOA name</th>\n",
       "      <th>Crime type</th>\n",
       "      <th>Last outcome category</th>\n",
       "    </tr>\n",
       "  </thead>\n",
       "  <tbody>\n",
       "    <tr>\n",
       "      <th>0</th>\n",
       "      <td>None</td>\n",
       "      <td>2016-10</td>\n",
       "      <td>-0.111497</td>\n",
       "      <td>51.518226</td>\n",
       "      <td>On or near Pedestrian Subway</td>\n",
       "      <td>E01000914</td>\n",
       "      <td>Camden 028B</td>\n",
       "      <td>Anti-social behaviour</td>\n",
       "      <td>Anti-social behaviour</td>\n",
       "    </tr>\n",
       "    <tr>\n",
       "      <th>1</th>\n",
       "      <td>None</td>\n",
       "      <td>2016-10</td>\n",
       "      <td>-0.097277</td>\n",
       "      <td>51.515307</td>\n",
       "      <td>On or near St Martin'S Le Grand</td>\n",
       "      <td>E01000001</td>\n",
       "      <td>City of London 001A</td>\n",
       "      <td>Anti-social behaviour</td>\n",
       "      <td>Anti-social behaviour</td>\n",
       "    </tr>\n",
       "    <tr>\n",
       "      <th>2</th>\n",
       "      <td>None</td>\n",
       "      <td>2016-10</td>\n",
       "      <td>-0.097409</td>\n",
       "      <td>51.521145</td>\n",
       "      <td>On or near Goswell Road</td>\n",
       "      <td>E01000001</td>\n",
       "      <td>City of London 001A</td>\n",
       "      <td>Anti-social behaviour</td>\n",
       "      <td>Anti-social behaviour</td>\n",
       "    </tr>\n",
       "    <tr>\n",
       "      <th>3</th>\n",
       "      <td>None</td>\n",
       "      <td>2016-10</td>\n",
       "      <td>-0.097562</td>\n",
       "      <td>51.518864</td>\n",
       "      <td>On or near Parking Area</td>\n",
       "      <td>E01000001</td>\n",
       "      <td>City of London 001A</td>\n",
       "      <td>Anti-social behaviour</td>\n",
       "      <td>Anti-social behaviour</td>\n",
       "    </tr>\n",
       "    <tr>\n",
       "      <th>4</th>\n",
       "      <td>None</td>\n",
       "      <td>2016-10</td>\n",
       "      <td>-0.097277</td>\n",
       "      <td>51.515307</td>\n",
       "      <td>On or near St Martin'S Le Grand</td>\n",
       "      <td>E01000001</td>\n",
       "      <td>City of London 001A</td>\n",
       "      <td>Anti-social behaviour</td>\n",
       "      <td>Anti-social behaviour</td>\n",
       "    </tr>\n",
       "  </tbody>\n",
       "</table>\n",
       "</div>"
      ],
      "text/plain": [
       "  Crime ID    Month  Longitude   Latitude                         Location  \\\n",
       "0     None  2016-10  -0.111497  51.518226     On or near Pedestrian Subway   \n",
       "1     None  2016-10  -0.097277  51.515307  On or near St Martin'S Le Grand   \n",
       "2     None  2016-10  -0.097409  51.521145          On or near Goswell Road   \n",
       "3     None  2016-10  -0.097562  51.518864          On or near Parking Area   \n",
       "4     None  2016-10  -0.097277  51.515307  On or near St Martin'S Le Grand   \n",
       "\n",
       "   LSOA code            LSOA name             Crime type  \\\n",
       "0  E01000914          Camden 028B  Anti-social behaviour   \n",
       "1  E01000001  City of London 001A  Anti-social behaviour   \n",
       "2  E01000001  City of London 001A  Anti-social behaviour   \n",
       "3  E01000001  City of London 001A  Anti-social behaviour   \n",
       "4  E01000001  City of London 001A  Anti-social behaviour   \n",
       "\n",
       "   Last outcome category  \n",
       "0  Anti-social behaviour  \n",
       "1  Anti-social behaviour  \n",
       "2  Anti-social behaviour  \n",
       "3  Anti-social behaviour  \n",
       "4  Anti-social behaviour  "
      ]
     },
     "execution_count": 13,
     "metadata": {},
     "output_type": "execute_result"
    }
   ],
   "source": [
    "dfOr.head()"
   ]
  },
  {
   "cell_type": "markdown",
   "metadata": {
    "id": "EUIqah7h_LAW"
   },
   "source": [
    "Q. Is there any imbalance in the label\n",
    "?"
   ]
  },
  {
   "cell_type": "code",
   "execution_count": 14,
   "metadata": {
    "id": "puZaHYIU_Pif"
   },
   "outputs": [
    {
     "name": "stdout",
     "output_type": "stream",
     "text": [
      "Crime ID : 20461\n",
      "Month : 36\n",
      "Longitude : 631\n",
      "Latitude : 621\n",
      "Location : 434\n",
      "LSOA code : 102\n",
      "LSOA name : 102\n",
      "Crime type : 14\n",
      "Last outcome category : 26\n"
     ]
    }
   ],
   "source": [
    "for i in dfOr.columns:  \n",
    "    print(f\"{i} : { dfOr[i].value_counts().count()}\")"
   ]
  },
  {
   "cell_type": "code",
   "execution_count": 15,
   "metadata": {},
   "outputs": [
    {
     "name": "stdout",
     "output_type": "stream",
     "text": [
      "<class 'pandas.core.frame.DataFrame'>\n",
      "Int64Index: 24922 entries, 0 to 24956\n",
      "Data columns (total 9 columns):\n",
      " #   Column                 Non-Null Count  Dtype  \n",
      "---  ------                 --------------  -----  \n",
      " 0   Crime ID               20564 non-null  object \n",
      " 1   Month                  24922 non-null  object \n",
      " 2   Longitude              23434 non-null  float64\n",
      " 3   Latitude               23434 non-null  float64\n",
      " 4   Location               24922 non-null  object \n",
      " 5   LSOA code              23434 non-null  object \n",
      " 6   LSOA name              23434 non-null  object \n",
      " 7   Crime type             24922 non-null  object \n",
      " 8   Last outcome category  24922 non-null  object \n",
      "dtypes: float64(2), object(7)\n",
      "memory usage: 1.9+ MB\n"
     ]
    }
   ],
   "source": [
    "dfOr.info()"
   ]
  },
  {
   "cell_type": "markdown",
   "metadata": {},
   "source": [
    "Q. Are there any strings in the features that need to be converted to integers? Do you select One-Hot encoding or Label Encoding?"
   ]
  },
  {
   "cell_type": "code",
   "execution_count": 16,
   "metadata": {},
   "outputs": [
    {
     "name": "stdout",
     "output_type": "stream",
     "text": [
      "Crime ID\n",
      "Month\n",
      "Location\n",
      "LSOA code\n",
      "LSOA name\n",
      "Crime type\n",
      "Last outcome category\n"
     ]
    }
   ],
   "source": [
    "from sklearn.preprocessing import LabelEncoder \n",
    "\n",
    "for col in dfOr.select_dtypes(include='object').columns:\n",
    "    le = LabelEncoder()\n",
    "    dfOr[col]= le.fit_transform(dfOr[col])\n",
    "    print(col)"
   ]
  },
  {
   "cell_type": "markdown",
   "metadata": {
    "id": "v9gQBGnZ_QiC"
   },
   "source": [
    "Q. Are there any outliers in the dataset? What do you do with them?"
   ]
  },
  {
   "cell_type": "code",
   "execution_count": 17,
   "metadata": {},
   "outputs": [
    {
     "data": {
      "image/png": "[encoded data removed]",
      "text/plain": [
       "<Figure size 432x288 with 2 Axes>"
      ]
     },
     "metadata": {
      "needs_background": "light"
     },
     "output_type": "display_data"
    }
   ],
   "source": [
    "#This will show data that data type is interger , float (not string)\n",
    "corr = dfOr.corr()\n",
    "import matplotlib.pyplot as plt\n",
    "import seaborn as sns\n",
    "plt.figure()\n",
    "sns.heatmap(corr)\n",
    "plt.show()"
   ]
  },
  {
   "cell_type": "code",
   "execution_count": 18,
   "metadata": {},
   "outputs": [
    {
     "data": {
      "text/plain": [
       "Crime ID                 1488\n",
       "Month                    1488\n",
       "Longitude                   0\n",
       "Latitude                    0\n",
       "Location                 1488\n",
       "LSOA code                1488\n",
       "LSOA name                1488\n",
       "Crime type               1488\n",
       "Last outcome category    1488\n",
       "dtype: int64"
      ]
     },
     "execution_count": 18,
     "metadata": {},
     "output_type": "execute_result"
    }
   ],
   "source": [
    "#24922 - 23434 = 1488\n",
    "dfOr[dfOr['Longitude'].isna() & dfOr['Latitude'].isna()].count()"
   ]
  },
  {
   "cell_type": "code",
   "execution_count": 19,
   "metadata": {},
   "outputs": [],
   "source": [
    "for i in ['Longitude','Latitude']:\n",
    "    dfOr.dropna(subset=[i], inplace = True)"
   ]
  },
  {
   "cell_type": "code",
   "execution_count": 20,
   "metadata": {},
   "outputs": [
    {
     "name": "stdout",
     "output_type": "stream",
     "text": [
      "<class 'pandas.core.frame.DataFrame'>\n",
      "Int64Index: 23434 entries, 0 to 24891\n",
      "Data columns (total 9 columns):\n",
      " #   Column                 Non-Null Count  Dtype  \n",
      "---  ------                 --------------  -----  \n",
      " 0   Crime ID               23434 non-null  int32  \n",
      " 1   Month                  23434 non-null  int32  \n",
      " 2   Longitude              23434 non-null  float64\n",
      " 3   Latitude               23434 non-null  float64\n",
      " 4   Location               23434 non-null  int32  \n",
      " 5   LSOA code              23434 non-null  int32  \n",
      " 6   LSOA name              23434 non-null  int32  \n",
      " 7   Crime type             23434 non-null  int32  \n",
      " 8   Last outcome category  23434 non-null  int32  \n",
      "dtypes: float64(2), int32(7)\n",
      "memory usage: 1.2 MB\n"
     ]
    }
   ],
   "source": [
    "dfOr.info()"
   ]
  },
  {
   "cell_type": "code",
   "execution_count": 21,
   "metadata": {},
   "outputs": [],
   "source": [
    "df = dfOr"
   ]
  },
  {
   "cell_type": "code",
   "execution_count": 22,
   "metadata": {},
   "outputs": [],
   "source": [
    "df['Idnew'] = df.index + 1"
   ]
  },
  {
   "cell_type": "code",
   "execution_count": 23,
   "metadata": {},
   "outputs": [
    {
     "data": {
      "text/html": [
       "<div>\n",
       "<style scoped>\n",
       "    .dataframe tbody tr th:only-of-type {\n",
       "        vertical-align: middle;\n",
       "    }\n",
       "\n",
       "    .dataframe tbody tr th {\n",
       "        vertical-align: top;\n",
       "    }\n",
       "\n",
       "    .dataframe thead th {\n",
       "        text-align: right;\n",
       "    }\n",
       "</style>\n",
       "<table border=\"1\" class=\"dataframe\">\n",
       "  <thead>\n",
       "    <tr style=\"text-align: right;\">\n",
       "      <th></th>\n",
       "      <th>Crime ID</th>\n",
       "      <th>Month</th>\n",
       "      <th>Longitude</th>\n",
       "      <th>Latitude</th>\n",
       "      <th>Location</th>\n",
       "      <th>LSOA code</th>\n",
       "      <th>LSOA name</th>\n",
       "      <th>Crime type</th>\n",
       "      <th>Last outcome category</th>\n",
       "      <th>Idnew</th>\n",
       "    </tr>\n",
       "  </thead>\n",
       "  <tbody>\n",
       "    <tr>\n",
       "      <th>0</th>\n",
       "      <td>20461</td>\n",
       "      <td>0</td>\n",
       "      <td>-0.111497</td>\n",
       "      <td>51.518226</td>\n",
       "      <td>301</td>\n",
       "      <td>6</td>\n",
       "      <td>7</td>\n",
       "      <td>0</td>\n",
       "      <td>1</td>\n",
       "      <td>1</td>\n",
       "    </tr>\n",
       "    <tr>\n",
       "      <th>1</th>\n",
       "      <td>20461</td>\n",
       "      <td>0</td>\n",
       "      <td>-0.097277</td>\n",
       "      <td>51.515307</td>\n",
       "      <td>361</td>\n",
       "      <td>0</td>\n",
       "      <td>10</td>\n",
       "      <td>0</td>\n",
       "      <td>1</td>\n",
       "      <td>2</td>\n",
       "    </tr>\n",
       "    <tr>\n",
       "      <th>2</th>\n",
       "      <td>20461</td>\n",
       "      <td>0</td>\n",
       "      <td>-0.097409</td>\n",
       "      <td>51.521145</td>\n",
       "      <td>166</td>\n",
       "      <td>0</td>\n",
       "      <td>10</td>\n",
       "      <td>0</td>\n",
       "      <td>1</td>\n",
       "      <td>3</td>\n",
       "    </tr>\n",
       "    <tr>\n",
       "      <th>3</th>\n",
       "      <td>20461</td>\n",
       "      <td>0</td>\n",
       "      <td>-0.097562</td>\n",
       "      <td>51.518864</td>\n",
       "      <td>300</td>\n",
       "      <td>0</td>\n",
       "      <td>10</td>\n",
       "      <td>0</td>\n",
       "      <td>1</td>\n",
       "      <td>4</td>\n",
       "    </tr>\n",
       "    <tr>\n",
       "      <th>4</th>\n",
       "      <td>20461</td>\n",
       "      <td>0</td>\n",
       "      <td>-0.097277</td>\n",
       "      <td>51.515307</td>\n",
       "      <td>361</td>\n",
       "      <td>0</td>\n",
       "      <td>10</td>\n",
       "      <td>0</td>\n",
       "      <td>1</td>\n",
       "      <td>5</td>\n",
       "    </tr>\n",
       "    <tr>\n",
       "      <th>...</th>\n",
       "      <td>...</td>\n",
       "      <td>...</td>\n",
       "      <td>...</td>\n",
       "      <td>...</td>\n",
       "      <td>...</td>\n",
       "      <td>...</td>\n",
       "      <td>...</td>\n",
       "      <td>...</td>\n",
       "      <td>...</td>\n",
       "      <td>...</td>\n",
       "    </tr>\n",
       "    <tr>\n",
       "      <th>24887</th>\n",
       "      <td>7209</td>\n",
       "      <td>35</td>\n",
       "      <td>-0.078779</td>\n",
       "      <td>51.508971</td>\n",
       "      <td>160</td>\n",
       "      <td>59</td>\n",
       "      <td>89</td>\n",
       "      <td>6</td>\n",
       "      <td>25</td>\n",
       "      <td>24888</td>\n",
       "    </tr>\n",
       "    <tr>\n",
       "      <th>24888</th>\n",
       "      <td>12565</td>\n",
       "      <td>35</td>\n",
       "      <td>-0.079130</td>\n",
       "      <td>51.507808</td>\n",
       "      <td>141</td>\n",
       "      <td>59</td>\n",
       "      <td>89</td>\n",
       "      <td>6</td>\n",
       "      <td>25</td>\n",
       "      <td>24889</td>\n",
       "    </tr>\n",
       "    <tr>\n",
       "      <th>24889</th>\n",
       "      <td>18800</td>\n",
       "      <td>35</td>\n",
       "      <td>-0.074901</td>\n",
       "      <td>51.506255</td>\n",
       "      <td>1</td>\n",
       "      <td>59</td>\n",
       "      <td>89</td>\n",
       "      <td>6</td>\n",
       "      <td>25</td>\n",
       "      <td>24890</td>\n",
       "    </tr>\n",
       "    <tr>\n",
       "      <th>24890</th>\n",
       "      <td>15644</td>\n",
       "      <td>35</td>\n",
       "      <td>-0.074901</td>\n",
       "      <td>51.506255</td>\n",
       "      <td>1</td>\n",
       "      <td>59</td>\n",
       "      <td>89</td>\n",
       "      <td>6</td>\n",
       "      <td>25</td>\n",
       "      <td>24891</td>\n",
       "    </tr>\n",
       "    <tr>\n",
       "      <th>24891</th>\n",
       "      <td>8148</td>\n",
       "      <td>35</td>\n",
       "      <td>-0.074901</td>\n",
       "      <td>51.506255</td>\n",
       "      <td>1</td>\n",
       "      <td>59</td>\n",
       "      <td>89</td>\n",
       "      <td>11</td>\n",
       "      <td>25</td>\n",
       "      <td>24892</td>\n",
       "    </tr>\n",
       "  </tbody>\n",
       "</table>\n",
       "<p>23434 rows × 10 columns</p>\n",
       "</div>"
      ],
      "text/plain": [
       "       Crime ID  Month  Longitude   Latitude  Location  LSOA code  LSOA name  \\\n",
       "0         20461      0  -0.111497  51.518226       301          6          7   \n",
       "1         20461      0  -0.097277  51.515307       361          0         10   \n",
       "2         20461      0  -0.097409  51.521145       166          0         10   \n",
       "3         20461      0  -0.097562  51.518864       300          0         10   \n",
       "4         20461      0  -0.097277  51.515307       361          0         10   \n",
       "...         ...    ...        ...        ...       ...        ...        ...   \n",
       "24887      7209     35  -0.078779  51.508971       160         59         89   \n",
       "24888     12565     35  -0.079130  51.507808       141         59         89   \n",
       "24889     18800     35  -0.074901  51.506255         1         59         89   \n",
       "24890     15644     35  -0.074901  51.506255         1         59         89   \n",
       "24891      8148     35  -0.074901  51.506255         1         59         89   \n",
       "\n",
       "       Crime type  Last outcome category  Idnew  \n",
       "0               0                      1      1  \n",
       "1               0                      1      2  \n",
       "2               0                      1      3  \n",
       "3               0                      1      4  \n",
       "4               0                      1      5  \n",
       "...           ...                    ...    ...  \n",
       "24887           6                     25  24888  \n",
       "24888           6                     25  24889  \n",
       "24889           6                     25  24890  \n",
       "24890           6                     25  24891  \n",
       "24891          11                     25  24892  \n",
       "\n",
       "[23434 rows x 10 columns]"
      ]
     },
     "execution_count": 23,
     "metadata": {},
     "output_type": "execute_result"
    }
   ],
   "source": [
    "df"
   ]
  },
  {
   "cell_type": "code",
   "execution_count": 24,
   "metadata": {},
   "outputs": [
    {
     "data": {
      "image/png": "[encoded data removed]",
      "text/plain": [
       "<Figure size 432x288 with 1 Axes>"
      ]
     },
     "metadata": {
      "needs_background": "light"
     },
     "output_type": "display_data"
    }
   ],
   "source": [
    "#importing library\n",
    "import matplotlib.pyplot as plt\n",
    "\n",
    "Longitude = np.array(df['Longitude'])\n",
    "Latitude = np.array(df['Latitude'])\n",
    "plt.scatter(Longitude, Latitude)\n",
    "plt.show()"
   ]
  },
  {
   "cell_type": "markdown",
   "metadata": {},
   "source": [
    "Nomarlize Latitude and Long"
   ]
  },
  {
   "cell_type": "code",
   "execution_count": 25,
   "metadata": {},
   "outputs": [
    {
     "data": {
      "text/html": [
       "<div>\n",
       "<style scoped>\n",
       "    .dataframe tbody tr th:only-of-type {\n",
       "        vertical-align: middle;\n",
       "    }\n",
       "\n",
       "    .dataframe tbody tr th {\n",
       "        vertical-align: top;\n",
       "    }\n",
       "\n",
       "    .dataframe thead th {\n",
       "        text-align: right;\n",
       "    }\n",
       "</style>\n",
       "<table border=\"1\" class=\"dataframe\">\n",
       "  <thead>\n",
       "    <tr style=\"text-align: right;\">\n",
       "      <th></th>\n",
       "      <th>count</th>\n",
       "      <th>mean</th>\n",
       "      <th>std</th>\n",
       "      <th>min</th>\n",
       "      <th>25%</th>\n",
       "      <th>50%</th>\n",
       "      <th>75%</th>\n",
       "      <th>max</th>\n",
       "    </tr>\n",
       "  </thead>\n",
       "  <tbody>\n",
       "    <tr>\n",
       "      <th>Crime ID</th>\n",
       "      <td>23434.0</td>\n",
       "      <td>12119.506956</td>\n",
       "      <td>6645.246167</td>\n",
       "      <td>0.000000</td>\n",
       "      <td>6277.250000</td>\n",
       "      <td>12555.000000</td>\n",
       "      <td>18804.750000</td>\n",
       "      <td>20461.000000</td>\n",
       "    </tr>\n",
       "    <tr>\n",
       "      <th>Month</th>\n",
       "      <td>23434.0</td>\n",
       "      <td>18.588845</td>\n",
       "      <td>10.480500</td>\n",
       "      <td>0.000000</td>\n",
       "      <td>10.000000</td>\n",
       "      <td>19.000000</td>\n",
       "      <td>28.000000</td>\n",
       "      <td>35.000000</td>\n",
       "    </tr>\n",
       "    <tr>\n",
       "      <th>Longitude</th>\n",
       "      <td>23434.0</td>\n",
       "      <td>-0.089060</td>\n",
       "      <td>0.016064</td>\n",
       "      <td>-1.621245</td>\n",
       "      <td>-0.096363</td>\n",
       "      <td>-0.086624</td>\n",
       "      <td>-0.080782</td>\n",
       "      <td>0.652838</td>\n",
       "    </tr>\n",
       "    <tr>\n",
       "      <th>Latitude</th>\n",
       "      <td>23434.0</td>\n",
       "      <td>51.514876</td>\n",
       "      <td>0.012569</td>\n",
       "      <td>51.252939</td>\n",
       "      <td>51.512549</td>\n",
       "      <td>51.514463</td>\n",
       "      <td>51.517244</td>\n",
       "      <td>53.245553</td>\n",
       "    </tr>\n",
       "    <tr>\n",
       "      <th>Location</th>\n",
       "      <td>23434.0</td>\n",
       "      <td>217.404114</td>\n",
       "      <td>124.015108</td>\n",
       "      <td>1.000000</td>\n",
       "      <td>105.000000</td>\n",
       "      <td>239.000000</td>\n",
       "      <td>312.000000</td>\n",
       "      <td>433.000000</td>\n",
       "    </tr>\n",
       "    <tr>\n",
       "      <th>LSOA code</th>\n",
       "      <td>23434.0</td>\n",
       "      <td>74.520654</td>\n",
       "      <td>32.757782</td>\n",
       "      <td>0.000000</td>\n",
       "      <td>90.000000</td>\n",
       "      <td>90.000000</td>\n",
       "      <td>90.000000</td>\n",
       "      <td>101.000000</td>\n",
       "    </tr>\n",
       "    <tr>\n",
       "      <th>LSOA name</th>\n",
       "      <td>23434.0</td>\n",
       "      <td>16.402279</td>\n",
       "      <td>12.547199</td>\n",
       "      <td>0.000000</td>\n",
       "      <td>14.000000</td>\n",
       "      <td>14.000000</td>\n",
       "      <td>14.000000</td>\n",
       "      <td>101.000000</td>\n",
       "    </tr>\n",
       "    <tr>\n",
       "      <th>Crime type</th>\n",
       "      <td>23434.0</td>\n",
       "      <td>6.294231</td>\n",
       "      <td>4.503621</td>\n",
       "      <td>0.000000</td>\n",
       "      <td>2.000000</td>\n",
       "      <td>6.000000</td>\n",
       "      <td>10.000000</td>\n",
       "      <td>13.000000</td>\n",
       "    </tr>\n",
       "    <tr>\n",
       "      <th>Last outcome category</th>\n",
       "      <td>23434.0</td>\n",
       "      <td>11.554664</td>\n",
       "      <td>8.156093</td>\n",
       "      <td>0.000000</td>\n",
       "      <td>9.000000</td>\n",
       "      <td>9.000000</td>\n",
       "      <td>22.000000</td>\n",
       "      <td>25.000000</td>\n",
       "    </tr>\n",
       "    <tr>\n",
       "      <th>Idnew</th>\n",
       "      <td>23434.0</td>\n",
       "      <td>12385.052317</td>\n",
       "      <td>7214.941092</td>\n",
       "      <td>1.000000</td>\n",
       "      <td>6150.250000</td>\n",
       "      <td>12300.500000</td>\n",
       "      <td>18676.750000</td>\n",
       "      <td>24892.000000</td>\n",
       "    </tr>\n",
       "  </tbody>\n",
       "</table>\n",
       "</div>"
      ],
      "text/plain": [
       "                         count          mean          std        min  \\\n",
       "Crime ID               23434.0  12119.506956  6645.246167   0.000000   \n",
       "Month                  23434.0     18.588845    10.480500   0.000000   \n",
       "Longitude              23434.0     -0.089060     0.016064  -1.621245   \n",
       "Latitude               23434.0     51.514876     0.012569  51.252939   \n",
       "Location               23434.0    217.404114   124.015108   1.000000   \n",
       "LSOA code              23434.0     74.520654    32.757782   0.000000   \n",
       "LSOA name              23434.0     16.402279    12.547199   0.000000   \n",
       "Crime type             23434.0      6.294231     4.503621   0.000000   \n",
       "Last outcome category  23434.0     11.554664     8.156093   0.000000   \n",
       "Idnew                  23434.0  12385.052317  7214.941092   1.000000   \n",
       "\n",
       "                               25%           50%           75%           max  \n",
       "Crime ID               6277.250000  12555.000000  18804.750000  20461.000000  \n",
       "Month                    10.000000     19.000000     28.000000     35.000000  \n",
       "Longitude                -0.096363     -0.086624     -0.080782      0.652838  \n",
       "Latitude                 51.512549     51.514463     51.517244     53.245553  \n",
       "Location                105.000000    239.000000    312.000000    433.000000  \n",
       "LSOA code                90.000000     90.000000     90.000000    101.000000  \n",
       "LSOA name                14.000000     14.000000     14.000000    101.000000  \n",
       "Crime type                2.000000      6.000000     10.000000     13.000000  \n",
       "Last outcome category     9.000000      9.000000     22.000000     25.000000  \n",
       "Idnew                  6150.250000  12300.500000  18676.750000  24892.000000  "
      ]
     },
     "execution_count": 25,
     "metadata": {},
     "output_type": "execute_result"
    }
   ],
   "source": [
    "#normolize : x  >> Z-Score = (data-mean)/std (-3,3)\n",
    "status = df.describe().T\n",
    "status"
   ]
  },
  {
   "cell_type": "code",
   "execution_count": 26,
   "metadata": {},
   "outputs": [],
   "source": [
    "xmeanLong = status['mean'][2] \n",
    "xmeanLa = status['mean'][3] \n",
    "xmeanLong , xmeanLa\n",
    "\n",
    "\n",
    "xstdLong = status['std'][2]\n",
    "xstdLa = status['std'][3]\n",
    "xstdLong,xstdLa\n",
    "\n",
    "#z-score\n",
    "df['Longitude'] = (df['Longitude'] - xmeanLong) /xstdLong   \n",
    "df['Latitude'] = (df['Latitude'] - xmeanLa) /xstdLa   "
   ]
  },
  {
   "cell_type": "code",
   "execution_count": 27,
   "metadata": {},
   "outputs": [
    {
     "data": {
      "text/html": [
       "<div>\n",
       "<style scoped>\n",
       "    .dataframe tbody tr th:only-of-type {\n",
       "        vertical-align: middle;\n",
       "    }\n",
       "\n",
       "    .dataframe tbody tr th {\n",
       "        vertical-align: top;\n",
       "    }\n",
       "\n",
       "    .dataframe thead th {\n",
       "        text-align: right;\n",
       "    }\n",
       "</style>\n",
       "<table border=\"1\" class=\"dataframe\">\n",
       "  <thead>\n",
       "    <tr style=\"text-align: right;\">\n",
       "      <th></th>\n",
       "      <th>Crime ID</th>\n",
       "      <th>Month</th>\n",
       "      <th>Longitude</th>\n",
       "      <th>Latitude</th>\n",
       "      <th>Location</th>\n",
       "      <th>LSOA code</th>\n",
       "      <th>LSOA name</th>\n",
       "      <th>Crime type</th>\n",
       "      <th>Last outcome category</th>\n",
       "      <th>Idnew</th>\n",
       "    </tr>\n",
       "  </thead>\n",
       "  <tbody>\n",
       "    <tr>\n",
       "      <th>0</th>\n",
       "      <td>20461</td>\n",
       "      <td>0</td>\n",
       "      <td>-1.396795</td>\n",
       "      <td>0.266558</td>\n",
       "      <td>301</td>\n",
       "      <td>6</td>\n",
       "      <td>7</td>\n",
       "      <td>0</td>\n",
       "      <td>1</td>\n",
       "      <td>1</td>\n",
       "    </tr>\n",
       "    <tr>\n",
       "      <th>1</th>\n",
       "      <td>20461</td>\n",
       "      <td>0</td>\n",
       "      <td>-0.511561</td>\n",
       "      <td>0.034322</td>\n",
       "      <td>361</td>\n",
       "      <td>0</td>\n",
       "      <td>10</td>\n",
       "      <td>0</td>\n",
       "      <td>1</td>\n",
       "      <td>2</td>\n",
       "    </tr>\n",
       "    <tr>\n",
       "      <th>2</th>\n",
       "      <td>20461</td>\n",
       "      <td>0</td>\n",
       "      <td>-0.519778</td>\n",
       "      <td>0.498793</td>\n",
       "      <td>166</td>\n",
       "      <td>0</td>\n",
       "      <td>10</td>\n",
       "      <td>0</td>\n",
       "      <td>1</td>\n",
       "      <td>3</td>\n",
       "    </tr>\n",
       "    <tr>\n",
       "      <th>3</th>\n",
       "      <td>20461</td>\n",
       "      <td>0</td>\n",
       "      <td>-0.529303</td>\n",
       "      <td>0.317317</td>\n",
       "      <td>300</td>\n",
       "      <td>0</td>\n",
       "      <td>10</td>\n",
       "      <td>0</td>\n",
       "      <td>1</td>\n",
       "      <td>4</td>\n",
       "    </tr>\n",
       "    <tr>\n",
       "      <th>4</th>\n",
       "      <td>20461</td>\n",
       "      <td>0</td>\n",
       "      <td>-0.511561</td>\n",
       "      <td>0.034322</td>\n",
       "      <td>361</td>\n",
       "      <td>0</td>\n",
       "      <td>10</td>\n",
       "      <td>0</td>\n",
       "      <td>1</td>\n",
       "      <td>5</td>\n",
       "    </tr>\n",
       "    <tr>\n",
       "      <th>...</th>\n",
       "      <td>...</td>\n",
       "      <td>...</td>\n",
       "      <td>...</td>\n",
       "      <td>...</td>\n",
       "      <td>...</td>\n",
       "      <td>...</td>\n",
       "      <td>...</td>\n",
       "      <td>...</td>\n",
       "      <td>...</td>\n",
       "      <td>...</td>\n",
       "    </tr>\n",
       "    <tr>\n",
       "      <th>24887</th>\n",
       "      <td>7209</td>\n",
       "      <td>35</td>\n",
       "      <td>0.639991</td>\n",
       "      <td>-0.469768</td>\n",
       "      <td>160</td>\n",
       "      <td>59</td>\n",
       "      <td>89</td>\n",
       "      <td>6</td>\n",
       "      <td>25</td>\n",
       "      <td>24888</td>\n",
       "    </tr>\n",
       "    <tr>\n",
       "      <th>24888</th>\n",
       "      <td>12565</td>\n",
       "      <td>35</td>\n",
       "      <td>0.618140</td>\n",
       "      <td>-0.562296</td>\n",
       "      <td>141</td>\n",
       "      <td>59</td>\n",
       "      <td>89</td>\n",
       "      <td>6</td>\n",
       "      <td>25</td>\n",
       "      <td>24889</td>\n",
       "    </tr>\n",
       "    <tr>\n",
       "      <th>24889</th>\n",
       "      <td>18800</td>\n",
       "      <td>35</td>\n",
       "      <td>0.881407</td>\n",
       "      <td>-0.685853</td>\n",
       "      <td>1</td>\n",
       "      <td>59</td>\n",
       "      <td>89</td>\n",
       "      <td>6</td>\n",
       "      <td>25</td>\n",
       "      <td>24890</td>\n",
       "    </tr>\n",
       "    <tr>\n",
       "      <th>24890</th>\n",
       "      <td>15644</td>\n",
       "      <td>35</td>\n",
       "      <td>0.881407</td>\n",
       "      <td>-0.685853</td>\n",
       "      <td>1</td>\n",
       "      <td>59</td>\n",
       "      <td>89</td>\n",
       "      <td>6</td>\n",
       "      <td>25</td>\n",
       "      <td>24891</td>\n",
       "    </tr>\n",
       "    <tr>\n",
       "      <th>24891</th>\n",
       "      <td>8148</td>\n",
       "      <td>35</td>\n",
       "      <td>0.881407</td>\n",
       "      <td>-0.685853</td>\n",
       "      <td>1</td>\n",
       "      <td>59</td>\n",
       "      <td>89</td>\n",
       "      <td>11</td>\n",
       "      <td>25</td>\n",
       "      <td>24892</td>\n",
       "    </tr>\n",
       "  </tbody>\n",
       "</table>\n",
       "<p>23434 rows × 10 columns</p>\n",
       "</div>"
      ],
      "text/plain": [
       "       Crime ID  Month  Longitude  Latitude  Location  LSOA code  LSOA name  \\\n",
       "0         20461      0  -1.396795  0.266558       301          6          7   \n",
       "1         20461      0  -0.511561  0.034322       361          0         10   \n",
       "2         20461      0  -0.519778  0.498793       166          0         10   \n",
       "3         20461      0  -0.529303  0.317317       300          0         10   \n",
       "4         20461      0  -0.511561  0.034322       361          0         10   \n",
       "...         ...    ...        ...       ...       ...        ...        ...   \n",
       "24887      7209     35   0.639991 -0.469768       160         59         89   \n",
       "24888     12565     35   0.618140 -0.562296       141         59         89   \n",
       "24889     18800     35   0.881407 -0.685853         1         59         89   \n",
       "24890     15644     35   0.881407 -0.685853         1         59         89   \n",
       "24891      8148     35   0.881407 -0.685853         1         59         89   \n",
       "\n",
       "       Crime type  Last outcome category  Idnew  \n",
       "0               0                      1      1  \n",
       "1               0                      1      2  \n",
       "2               0                      1      3  \n",
       "3               0                      1      4  \n",
       "4               0                      1      5  \n",
       "...           ...                    ...    ...  \n",
       "24887           6                     25  24888  \n",
       "24888           6                     25  24889  \n",
       "24889           6                     25  24890  \n",
       "24890           6                     25  24891  \n",
       "24891          11                     25  24892  \n",
       "\n",
       "[23434 rows x 10 columns]"
      ]
     },
     "execution_count": 27,
     "metadata": {},
     "output_type": "execute_result"
    }
   ],
   "source": [
    "df"
   ]
  },
  {
   "cell_type": "code",
   "execution_count": 28,
   "metadata": {},
   "outputs": [
    {
     "data": {
      "text/html": [
       "<div>\n",
       "<style scoped>\n",
       "    .dataframe tbody tr th:only-of-type {\n",
       "        vertical-align: middle;\n",
       "    }\n",
       "\n",
       "    .dataframe tbody tr th {\n",
       "        vertical-align: top;\n",
       "    }\n",
       "\n",
       "    .dataframe thead th {\n",
       "        text-align: right;\n",
       "    }\n",
       "</style>\n",
       "<table border=\"1\" class=\"dataframe\">\n",
       "  <thead>\n",
       "    <tr style=\"text-align: right;\">\n",
       "      <th></th>\n",
       "      <th>Crime ID</th>\n",
       "      <th>Month</th>\n",
       "      <th>Longitude</th>\n",
       "      <th>Latitude</th>\n",
       "      <th>Location</th>\n",
       "      <th>LSOA code</th>\n",
       "      <th>LSOA name</th>\n",
       "      <th>Crime type</th>\n",
       "      <th>Last outcome category</th>\n",
       "      <th>Idnew</th>\n",
       "    </tr>\n",
       "  </thead>\n",
       "  <tbody>\n",
       "    <tr>\n",
       "      <th>0</th>\n",
       "      <td>20461</td>\n",
       "      <td>0</td>\n",
       "      <td>-1.396795</td>\n",
       "      <td>0.266558</td>\n",
       "      <td>301</td>\n",
       "      <td>6</td>\n",
       "      <td>7</td>\n",
       "      <td>0</td>\n",
       "      <td>1</td>\n",
       "      <td>1</td>\n",
       "    </tr>\n",
       "    <tr>\n",
       "      <th>1</th>\n",
       "      <td>20461</td>\n",
       "      <td>0</td>\n",
       "      <td>-0.511561</td>\n",
       "      <td>0.034322</td>\n",
       "      <td>361</td>\n",
       "      <td>0</td>\n",
       "      <td>10</td>\n",
       "      <td>0</td>\n",
       "      <td>1</td>\n",
       "      <td>2</td>\n",
       "    </tr>\n",
       "    <tr>\n",
       "      <th>2</th>\n",
       "      <td>20461</td>\n",
       "      <td>0</td>\n",
       "      <td>-0.519778</td>\n",
       "      <td>0.498793</td>\n",
       "      <td>166</td>\n",
       "      <td>0</td>\n",
       "      <td>10</td>\n",
       "      <td>0</td>\n",
       "      <td>1</td>\n",
       "      <td>3</td>\n",
       "    </tr>\n",
       "    <tr>\n",
       "      <th>3</th>\n",
       "      <td>20461</td>\n",
       "      <td>0</td>\n",
       "      <td>-0.529303</td>\n",
       "      <td>0.317317</td>\n",
       "      <td>300</td>\n",
       "      <td>0</td>\n",
       "      <td>10</td>\n",
       "      <td>0</td>\n",
       "      <td>1</td>\n",
       "      <td>4</td>\n",
       "    </tr>\n",
       "    <tr>\n",
       "      <th>4</th>\n",
       "      <td>20461</td>\n",
       "      <td>0</td>\n",
       "      <td>-0.511561</td>\n",
       "      <td>0.034322</td>\n",
       "      <td>361</td>\n",
       "      <td>0</td>\n",
       "      <td>10</td>\n",
       "      <td>0</td>\n",
       "      <td>1</td>\n",
       "      <td>5</td>\n",
       "    </tr>\n",
       "    <tr>\n",
       "      <th>...</th>\n",
       "      <td>...</td>\n",
       "      <td>...</td>\n",
       "      <td>...</td>\n",
       "      <td>...</td>\n",
       "      <td>...</td>\n",
       "      <td>...</td>\n",
       "      <td>...</td>\n",
       "      <td>...</td>\n",
       "      <td>...</td>\n",
       "      <td>...</td>\n",
       "    </tr>\n",
       "    <tr>\n",
       "      <th>24887</th>\n",
       "      <td>7209</td>\n",
       "      <td>35</td>\n",
       "      <td>0.639991</td>\n",
       "      <td>-0.469768</td>\n",
       "      <td>160</td>\n",
       "      <td>59</td>\n",
       "      <td>89</td>\n",
       "      <td>6</td>\n",
       "      <td>25</td>\n",
       "      <td>24888</td>\n",
       "    </tr>\n",
       "    <tr>\n",
       "      <th>24888</th>\n",
       "      <td>12565</td>\n",
       "      <td>35</td>\n",
       "      <td>0.618140</td>\n",
       "      <td>-0.562296</td>\n",
       "      <td>141</td>\n",
       "      <td>59</td>\n",
       "      <td>89</td>\n",
       "      <td>6</td>\n",
       "      <td>25</td>\n",
       "      <td>24889</td>\n",
       "    </tr>\n",
       "    <tr>\n",
       "      <th>24889</th>\n",
       "      <td>18800</td>\n",
       "      <td>35</td>\n",
       "      <td>0.881407</td>\n",
       "      <td>-0.685853</td>\n",
       "      <td>1</td>\n",
       "      <td>59</td>\n",
       "      <td>89</td>\n",
       "      <td>6</td>\n",
       "      <td>25</td>\n",
       "      <td>24890</td>\n",
       "    </tr>\n",
       "    <tr>\n",
       "      <th>24890</th>\n",
       "      <td>15644</td>\n",
       "      <td>35</td>\n",
       "      <td>0.881407</td>\n",
       "      <td>-0.685853</td>\n",
       "      <td>1</td>\n",
       "      <td>59</td>\n",
       "      <td>89</td>\n",
       "      <td>6</td>\n",
       "      <td>25</td>\n",
       "      <td>24891</td>\n",
       "    </tr>\n",
       "    <tr>\n",
       "      <th>24891</th>\n",
       "      <td>8148</td>\n",
       "      <td>35</td>\n",
       "      <td>0.881407</td>\n",
       "      <td>-0.685853</td>\n",
       "      <td>1</td>\n",
       "      <td>59</td>\n",
       "      <td>89</td>\n",
       "      <td>11</td>\n",
       "      <td>25</td>\n",
       "      <td>24892</td>\n",
       "    </tr>\n",
       "  </tbody>\n",
       "</table>\n",
       "<p>23393 rows × 10 columns</p>\n",
       "</div>"
      ],
      "text/plain": [
       "       Crime ID  Month  Longitude  Latitude  Location  LSOA code  LSOA name  \\\n",
       "0         20461      0  -1.396795  0.266558       301          6          7   \n",
       "1         20461      0  -0.511561  0.034322       361          0         10   \n",
       "2         20461      0  -0.519778  0.498793       166          0         10   \n",
       "3         20461      0  -0.529303  0.317317       300          0         10   \n",
       "4         20461      0  -0.511561  0.034322       361          0         10   \n",
       "...         ...    ...        ...       ...       ...        ...        ...   \n",
       "24887      7209     35   0.639991 -0.469768       160         59         89   \n",
       "24888     12565     35   0.618140 -0.562296       141         59         89   \n",
       "24889     18800     35   0.881407 -0.685853         1         59         89   \n",
       "24890     15644     35   0.881407 -0.685853         1         59         89   \n",
       "24891      8148     35   0.881407 -0.685853         1         59         89   \n",
       "\n",
       "       Crime type  Last outcome category  Idnew  \n",
       "0               0                      1      1  \n",
       "1               0                      1      2  \n",
       "2               0                      1      3  \n",
       "3               0                      1      4  \n",
       "4               0                      1      5  \n",
       "...           ...                    ...    ...  \n",
       "24887           6                     25  24888  \n",
       "24888           6                     25  24889  \n",
       "24889           6                     25  24890  \n",
       "24890           6                     25  24891  \n",
       "24891          11                     25  24892  \n",
       "\n",
       "[23393 rows x 10 columns]"
      ]
     },
     "execution_count": 28,
     "metadata": {},
     "output_type": "execute_result"
    }
   ],
   "source": [
    "#check z-score out of range [-3,3]\n",
    "df = df[~((df['Longitude'] > 3 ) | (df['Longitude'] <-3 ))]\n",
    "df = df[~((df['Latitude'] > 3 ) | (df['Latitude'] <-3 ))]\n",
    "df"
   ]
  },
  {
   "cell_type": "code",
   "execution_count": 29,
   "metadata": {},
   "outputs": [
    {
     "data": {
      "image/png": "[encoded data removed]",
      "text/plain": [
       "<Figure size 432x288 with 1 Axes>"
      ]
     },
     "metadata": {
      "needs_background": "light"
     },
     "output_type": "display_data"
    }
   ],
   "source": [
    "#importing library\n",
    "import matplotlib.pyplot as plt\n",
    "\n",
    "Longitude = np.array(df['Longitude'])\n",
    "Latitude = np.array(df['Latitude'])\n",
    "plt.scatter(Longitude, Latitude)\n",
    "plt.show()"
   ]
  },
  {
   "cell_type": "code",
   "execution_count": 30,
   "metadata": {},
   "outputs": [
    {
     "data": {
      "image/png": "[encoded data removed]",
      "text/plain": [
       "<Figure size 432x288 with 1 Axes>"
      ]
     },
     "metadata": {
      "needs_background": "light"
     },
     "output_type": "display_data"
    }
   ],
   "source": [
    "from sklearn.cluster import KMeans\n",
    "K_clusters = range(1,10)\n",
    "kmeans = [KMeans(n_clusters=i) for i in K_clusters]\n",
    "Y_axis = df[['Latitude']]\n",
    "X_axis = df[['Longitude']]\n",
    "score = [kmeans[i].fit(Y_axis).score(Y_axis) for i in range(len(kmeans))]\n",
    "# Visualize\n",
    "plt.plot(K_clusters, score)\n",
    "plt.xlabel('Number of Clusters')\n",
    "plt.ylabel('Score')\n",
    "plt.title('Elbow Curve')\n",
    "plt.show()"
   ]
  },
  {
   "cell_type": "code",
   "execution_count": 31,
   "metadata": {},
   "outputs": [
    {
     "data": {
      "text/html": [
       "<div>\n",
       "<style scoped>\n",
       "    .dataframe tbody tr th:only-of-type {\n",
       "        vertical-align: middle;\n",
       "    }\n",
       "\n",
       "    .dataframe tbody tr th {\n",
       "        vertical-align: top;\n",
       "    }\n",
       "\n",
       "    .dataframe thead th {\n",
       "        text-align: right;\n",
       "    }\n",
       "</style>\n",
       "<table border=\"1\" class=\"dataframe\">\n",
       "  <thead>\n",
       "    <tr style=\"text-align: right;\">\n",
       "      <th></th>\n",
       "      <th>Idnew</th>\n",
       "      <th>Latitude</th>\n",
       "      <th>Longitude</th>\n",
       "    </tr>\n",
       "  </thead>\n",
       "  <tbody>\n",
       "    <tr>\n",
       "      <th>0</th>\n",
       "      <td>1</td>\n",
       "      <td>0.266558</td>\n",
       "      <td>-1.396795</td>\n",
       "    </tr>\n",
       "    <tr>\n",
       "      <th>1</th>\n",
       "      <td>2</td>\n",
       "      <td>0.034322</td>\n",
       "      <td>-0.511561</td>\n",
       "    </tr>\n",
       "    <tr>\n",
       "      <th>2</th>\n",
       "      <td>3</td>\n",
       "      <td>0.498793</td>\n",
       "      <td>-0.519778</td>\n",
       "    </tr>\n",
       "    <tr>\n",
       "      <th>3</th>\n",
       "      <td>4</td>\n",
       "      <td>0.317317</td>\n",
       "      <td>-0.529303</td>\n",
       "    </tr>\n",
       "    <tr>\n",
       "      <th>4</th>\n",
       "      <td>5</td>\n",
       "      <td>0.034322</td>\n",
       "      <td>-0.511561</td>\n",
       "    </tr>\n",
       "    <tr>\n",
       "      <th>5</th>\n",
       "      <td>6</td>\n",
       "      <td>0.424086</td>\n",
       "      <td>-0.540135</td>\n",
       "    </tr>\n",
       "    <tr>\n",
       "      <th>6</th>\n",
       "      <td>7</td>\n",
       "      <td>0.435383</td>\n",
       "      <td>-0.426710</td>\n",
       "    </tr>\n",
       "    <tr>\n",
       "      <th>7</th>\n",
       "      <td>8</td>\n",
       "      <td>0.463309</td>\n",
       "      <td>-0.531731</td>\n",
       "    </tr>\n",
       "    <tr>\n",
       "      <th>8</th>\n",
       "      <td>9</td>\n",
       "      <td>0.463309</td>\n",
       "      <td>-0.531731</td>\n",
       "    </tr>\n",
       "    <tr>\n",
       "      <th>9</th>\n",
       "      <td>10</td>\n",
       "      <td>0.214923</td>\n",
       "      <td>-0.560429</td>\n",
       "    </tr>\n",
       "  </tbody>\n",
       "</table>\n",
       "</div>"
      ],
      "text/plain": [
       "   Idnew  Latitude  Longitude\n",
       "0      1  0.266558  -1.396795\n",
       "1      2  0.034322  -0.511561\n",
       "2      3  0.498793  -0.519778\n",
       "3      4  0.317317  -0.529303\n",
       "4      5  0.034322  -0.511561\n",
       "5      6  0.424086  -0.540135\n",
       "6      7  0.435383  -0.426710\n",
       "7      8  0.463309  -0.531731\n",
       "8      9  0.463309  -0.531731\n",
       "9     10  0.214923  -0.560429"
      ]
     },
     "execution_count": 31,
     "metadata": {},
     "output_type": "execute_result"
    }
   ],
   "source": [
    "# Variable with the Longitude and Latitude\n",
    "X=df.loc[:,['Idnew','Latitude','Longitude']]\n",
    "X.head(10)"
   ]
  },
  {
   "cell_type": "code",
   "execution_count": 32,
   "metadata": {},
   "outputs": [
    {
     "data": {
      "text/html": [
       "<div>\n",
       "<style scoped>\n",
       "    .dataframe tbody tr th:only-of-type {\n",
       "        vertical-align: middle;\n",
       "    }\n",
       "\n",
       "    .dataframe tbody tr th {\n",
       "        vertical-align: top;\n",
       "    }\n",
       "\n",
       "    .dataframe thead th {\n",
       "        text-align: right;\n",
       "    }\n",
       "</style>\n",
       "<table border=\"1\" class=\"dataframe\">\n",
       "  <thead>\n",
       "    <tr style=\"text-align: right;\">\n",
       "      <th></th>\n",
       "      <th>Idnew</th>\n",
       "      <th>Latitude</th>\n",
       "      <th>Longitude</th>\n",
       "      <th>cluster_label</th>\n",
       "    </tr>\n",
       "  </thead>\n",
       "  <tbody>\n",
       "    <tr>\n",
       "      <th>0</th>\n",
       "      <td>1</td>\n",
       "      <td>0.266558</td>\n",
       "      <td>-1.396795</td>\n",
       "      <td>0</td>\n",
       "    </tr>\n",
       "    <tr>\n",
       "      <th>1</th>\n",
       "      <td>2</td>\n",
       "      <td>0.034322</td>\n",
       "      <td>-0.511561</td>\n",
       "      <td>2</td>\n",
       "    </tr>\n",
       "    <tr>\n",
       "      <th>2</th>\n",
       "      <td>3</td>\n",
       "      <td>0.498793</td>\n",
       "      <td>-0.519778</td>\n",
       "      <td>2</td>\n",
       "    </tr>\n",
       "    <tr>\n",
       "      <th>3</th>\n",
       "      <td>4</td>\n",
       "      <td>0.317317</td>\n",
       "      <td>-0.529303</td>\n",
       "      <td>2</td>\n",
       "    </tr>\n",
       "    <tr>\n",
       "      <th>4</th>\n",
       "      <td>5</td>\n",
       "      <td>0.034322</td>\n",
       "      <td>-0.511561</td>\n",
       "      <td>2</td>\n",
       "    </tr>\n",
       "    <tr>\n",
       "      <th>5</th>\n",
       "      <td>6</td>\n",
       "      <td>0.424086</td>\n",
       "      <td>-0.540135</td>\n",
       "      <td>2</td>\n",
       "    </tr>\n",
       "    <tr>\n",
       "      <th>6</th>\n",
       "      <td>7</td>\n",
       "      <td>0.435383</td>\n",
       "      <td>-0.426710</td>\n",
       "      <td>2</td>\n",
       "    </tr>\n",
       "    <tr>\n",
       "      <th>7</th>\n",
       "      <td>8</td>\n",
       "      <td>0.463309</td>\n",
       "      <td>-0.531731</td>\n",
       "      <td>2</td>\n",
       "    </tr>\n",
       "    <tr>\n",
       "      <th>8</th>\n",
       "      <td>9</td>\n",
       "      <td>0.463309</td>\n",
       "      <td>-0.531731</td>\n",
       "      <td>2</td>\n",
       "    </tr>\n",
       "    <tr>\n",
       "      <th>9</th>\n",
       "      <td>10</td>\n",
       "      <td>0.214923</td>\n",
       "      <td>-0.560429</td>\n",
       "      <td>2</td>\n",
       "    </tr>\n",
       "  </tbody>\n",
       "</table>\n",
       "</div>"
      ],
      "text/plain": [
       "   Idnew  Latitude  Longitude  cluster_label\n",
       "0      1  0.266558  -1.396795              0\n",
       "1      2  0.034322  -0.511561              2\n",
       "2      3  0.498793  -0.519778              2\n",
       "3      4  0.317317  -0.529303              2\n",
       "4      5  0.034322  -0.511561              2\n",
       "5      6  0.424086  -0.540135              2\n",
       "6      7  0.435383  -0.426710              2\n",
       "7      8  0.463309  -0.531731              2\n",
       "8      9  0.463309  -0.531731              2\n",
       "9     10  0.214923  -0.560429              2"
      ]
     },
     "execution_count": 32,
     "metadata": {},
     "output_type": "execute_result"
    }
   ],
   "source": [
    "#separate 3 cluster\n",
    "kmeans = KMeans(n_clusters = 3, init ='k-means++')\n",
    "kmeans.fit(X[X.columns[1:3]]) # Compute k-means clustering.\n",
    "X['cluster_label'] = kmeans.fit_predict(X[X.columns[1:3]])\n",
    "centers = kmeans.cluster_centers_ # Coordinates of cluster centers.\n",
    "labels = kmeans.predict(X[X.columns[1:3]]) # Labels of each point\n",
    "X.head(10)"
   ]
  },
  {
   "cell_type": "code",
   "execution_count": 33,
   "metadata": {},
   "outputs": [
    {
     "data": {
      "text/plain": [
       "1    12203\n",
       "2     7094\n",
       "0     4096\n",
       "Name: cluster_label, dtype: int64"
      ]
     },
     "execution_count": 33,
     "metadata": {},
     "output_type": "execute_result"
    }
   ],
   "source": [
    "X['cluster_label'].value_counts()"
   ]
  },
  {
   "cell_type": "code",
   "execution_count": 34,
   "metadata": {},
   "outputs": [
    {
     "data": {
      "text/plain": [
       "<matplotlib.collections.PathCollection at 0x1c3a934c940>"
      ]
     },
     "execution_count": 34,
     "metadata": {},
     "output_type": "execute_result"
    },
    {
     "data": {
      "image/png": "[encoded data removed]",
      "text/plain": [
       "<Figure size 432x288 with 2 Axes>"
      ]
     },
     "metadata": {
      "needs_background": "light"
     },
     "output_type": "display_data"
    }
   ],
   "source": [
    "X.plot.scatter(x = 'Latitude', y = 'Longitude', c=labels, s=200, cmap='viridis')\n",
    "plt.scatter(centers[:, 0], centers[:, 1], c='black', s=200, alpha=0.5)"
   ]
  },
  {
   "cell_type": "code",
   "execution_count": 35,
   "metadata": {},
   "outputs": [
    {
     "name": "stdout",
     "output_type": "stream",
     "text": [
      "[[ 0.01682267 -1.01644019]\n",
      " [-0.04982448  0.48807142]\n",
      " [ 0.04510477 -0.25986809]]\n"
     ]
    }
   ],
   "source": [
    "#cemteroid each cluster\n",
    "centers = kmeans.cluster_centers_\n",
    "print(centers)"
   ]
  },
  {
   "cell_type": "code",
   "execution_count": 36,
   "metadata": {},
   "outputs": [],
   "source": [
    "df = df.merge(X[['Idnew','cluster_label']],how=\"inner\",on =\"Idnew\")"
   ]
  },
  {
   "cell_type": "code",
   "execution_count": 37,
   "metadata": {},
   "outputs": [
    {
     "data": {
      "text/plain": [
       "1    12203\n",
       "2     7094\n",
       "0     4096\n",
       "Name: cluster_label, dtype: int64"
      ]
     },
     "execution_count": 37,
     "metadata": {},
     "output_type": "execute_result"
    }
   ],
   "source": [
    "df['cluster_label'].value_counts()"
   ]
  },
  {
   "cell_type": "code",
   "execution_count": 38,
   "metadata": {},
   "outputs": [
    {
     "data": {
      "text/html": [
       "<div>\n",
       "<style scoped>\n",
       "    .dataframe tbody tr th:only-of-type {\n",
       "        vertical-align: middle;\n",
       "    }\n",
       "\n",
       "    .dataframe tbody tr th {\n",
       "        vertical-align: top;\n",
       "    }\n",
       "\n",
       "    .dataframe thead th {\n",
       "        text-align: right;\n",
       "    }\n",
       "</style>\n",
       "<table border=\"1\" class=\"dataframe\">\n",
       "  <thead>\n",
       "    <tr style=\"text-align: right;\">\n",
       "      <th></th>\n",
       "      <th>Crime ID</th>\n",
       "      <th>Month</th>\n",
       "      <th>Longitude</th>\n",
       "      <th>Latitude</th>\n",
       "      <th>Location</th>\n",
       "      <th>LSOA code</th>\n",
       "      <th>LSOA name</th>\n",
       "      <th>Crime type</th>\n",
       "      <th>Last outcome category</th>\n",
       "      <th>Idnew</th>\n",
       "      <th>cluster_label</th>\n",
       "    </tr>\n",
       "  </thead>\n",
       "  <tbody>\n",
       "    <tr>\n",
       "      <th>0</th>\n",
       "      <td>20461</td>\n",
       "      <td>0</td>\n",
       "      <td>-1.396795</td>\n",
       "      <td>0.266558</td>\n",
       "      <td>301</td>\n",
       "      <td>6</td>\n",
       "      <td>7</td>\n",
       "      <td>0</td>\n",
       "      <td>1</td>\n",
       "      <td>1</td>\n",
       "      <td>0</td>\n",
       "    </tr>\n",
       "    <tr>\n",
       "      <th>1</th>\n",
       "      <td>20461</td>\n",
       "      <td>0</td>\n",
       "      <td>-0.511561</td>\n",
       "      <td>0.034322</td>\n",
       "      <td>361</td>\n",
       "      <td>0</td>\n",
       "      <td>10</td>\n",
       "      <td>0</td>\n",
       "      <td>1</td>\n",
       "      <td>2</td>\n",
       "      <td>2</td>\n",
       "    </tr>\n",
       "    <tr>\n",
       "      <th>2</th>\n",
       "      <td>20461</td>\n",
       "      <td>0</td>\n",
       "      <td>-0.519778</td>\n",
       "      <td>0.498793</td>\n",
       "      <td>166</td>\n",
       "      <td>0</td>\n",
       "      <td>10</td>\n",
       "      <td>0</td>\n",
       "      <td>1</td>\n",
       "      <td>3</td>\n",
       "      <td>2</td>\n",
       "    </tr>\n",
       "    <tr>\n",
       "      <th>3</th>\n",
       "      <td>20461</td>\n",
       "      <td>0</td>\n",
       "      <td>-0.529303</td>\n",
       "      <td>0.317317</td>\n",
       "      <td>300</td>\n",
       "      <td>0</td>\n",
       "      <td>10</td>\n",
       "      <td>0</td>\n",
       "      <td>1</td>\n",
       "      <td>4</td>\n",
       "      <td>2</td>\n",
       "    </tr>\n",
       "    <tr>\n",
       "      <th>4</th>\n",
       "      <td>20461</td>\n",
       "      <td>0</td>\n",
       "      <td>-0.511561</td>\n",
       "      <td>0.034322</td>\n",
       "      <td>361</td>\n",
       "      <td>0</td>\n",
       "      <td>10</td>\n",
       "      <td>0</td>\n",
       "      <td>1</td>\n",
       "      <td>5</td>\n",
       "      <td>2</td>\n",
       "    </tr>\n",
       "  </tbody>\n",
       "</table>\n",
       "</div>"
      ],
      "text/plain": [
       "   Crime ID  Month  Longitude  Latitude  Location  LSOA code  LSOA name  \\\n",
       "0     20461      0  -1.396795  0.266558       301          6          7   \n",
       "1     20461      0  -0.511561  0.034322       361          0         10   \n",
       "2     20461      0  -0.519778  0.498793       166          0         10   \n",
       "3     20461      0  -0.529303  0.317317       300          0         10   \n",
       "4     20461      0  -0.511561  0.034322       361          0         10   \n",
       "\n",
       "   Crime type  Last outcome category  Idnew  cluster_label  \n",
       "0           0                      1      1              0  \n",
       "1           0                      1      2              2  \n",
       "2           0                      1      3              2  \n",
       "3           0                      1      4              2  \n",
       "4           0                      1      5              2  "
      ]
     },
     "execution_count": 38,
     "metadata": {},
     "output_type": "execute_result"
    }
   ],
   "source": [
    "df.head()"
   ]
  },
  {
   "cell_type": "code",
   "execution_count": 39,
   "metadata": {},
   "outputs": [
    {
     "data": {
      "text/plain": [
       "6     5408\n",
       "0     4314\n",
       "13    3175\n",
       "10    2470\n",
       "11    1728\n",
       "1     1228\n",
       "4     1147\n",
       "8      989\n",
       "2      865\n",
       "3      711\n",
       "12     566\n",
       "5      372\n",
       "9      253\n",
       "7      167\n",
       "Name: Crime type, dtype: int64"
      ]
     },
     "execution_count": 39,
     "metadata": {},
     "output_type": "execute_result"
    }
   ],
   "source": [
    "df['Crime type'].value_counts()"
   ]
  },
  {
   "cell_type": "code",
   "execution_count": 40,
   "metadata": {},
   "outputs": [
    {
     "data": {
      "text/plain": [
       "<Figure size 432x288 with 0 Axes>"
      ]
     },
     "metadata": {},
     "output_type": "display_data"
    },
    {
     "data": {
      "image/png": "[encoded data removed]",
      "text/plain": [
       "<Figure size 1800x432 with 1 Axes>"
      ]
     },
     "metadata": {
      "needs_background": "light"
     },
     "output_type": "display_data"
    }
   ],
   "source": [
    "import matplotlib.pyplot as plt\n",
    "plt.clf()\n",
    "plt.figure(figsize=(25,6))\n",
    "m_and_b_counts = df['Crime type'].value_counts()\n",
    "plt.bar(m_and_b_counts.index,m_and_b_counts )\n",
    "#plt.rcParams['figure.figsize'] = [25, 15]\n",
    "plt.show()"
   ]
  },
  {
   "cell_type": "markdown",
   "metadata": {},
   "source": [
    "Catargorise crime type in each cluster:: Often/ Sometimes / Sligthly"
   ]
  },
  {
   "cell_type": "code",
   "execution_count": 41,
   "metadata": {},
   "outputs": [
    {
     "data": {
      "image/png": "[encoded data removed]",
      "text/plain": [
       "<Figure size 432x288 with 1 Axes>"
      ]
     },
     "metadata": {
      "needs_background": "light"
     },
     "output_type": "display_data"
    }
   ],
   "source": [
    "#importing library\n",
    "import matplotlib.pyplot as plt\n",
    "#datasets\n",
    "Longitude = np.array(df['cluster_label'])\n",
    "Latitude = np.array(df['Crime type'])\n",
    "plt.scatter(Longitude, Latitude)\n",
    "plt.show()"
   ]
  },
  {
   "cell_type": "code",
   "execution_count": 42,
   "metadata": {},
   "outputs": [
    {
     "data": {
      "text/html": [
       "<div>\n",
       "<style scoped>\n",
       "    .dataframe tbody tr th:only-of-type {\n",
       "        vertical-align: middle;\n",
       "    }\n",
       "\n",
       "    .dataframe tbody tr th {\n",
       "        vertical-align: top;\n",
       "    }\n",
       "\n",
       "    .dataframe thead th {\n",
       "        text-align: right;\n",
       "    }\n",
       "</style>\n",
       "<table border=\"1\" class=\"dataframe\">\n",
       "  <thead>\n",
       "    <tr style=\"text-align: right;\">\n",
       "      <th></th>\n",
       "      <th>count</th>\n",
       "      <th>mean</th>\n",
       "      <th>std</th>\n",
       "      <th>min</th>\n",
       "      <th>25%</th>\n",
       "      <th>50%</th>\n",
       "      <th>75%</th>\n",
       "      <th>max</th>\n",
       "    </tr>\n",
       "  </thead>\n",
       "  <tbody>\n",
       "    <tr>\n",
       "      <th>Crime ID</th>\n",
       "      <td>0.0</td>\n",
       "      <td>NaN</td>\n",
       "      <td>NaN</td>\n",
       "      <td>NaN</td>\n",
       "      <td>NaN</td>\n",
       "      <td>NaN</td>\n",
       "      <td>NaN</td>\n",
       "      <td>NaN</td>\n",
       "    </tr>\n",
       "    <tr>\n",
       "      <th>Month</th>\n",
       "      <td>0.0</td>\n",
       "      <td>NaN</td>\n",
       "      <td>NaN</td>\n",
       "      <td>NaN</td>\n",
       "      <td>NaN</td>\n",
       "      <td>NaN</td>\n",
       "      <td>NaN</td>\n",
       "      <td>NaN</td>\n",
       "    </tr>\n",
       "    <tr>\n",
       "      <th>Longitude</th>\n",
       "      <td>0.0</td>\n",
       "      <td>NaN</td>\n",
       "      <td>NaN</td>\n",
       "      <td>NaN</td>\n",
       "      <td>NaN</td>\n",
       "      <td>NaN</td>\n",
       "      <td>NaN</td>\n",
       "      <td>NaN</td>\n",
       "    </tr>\n",
       "    <tr>\n",
       "      <th>Latitude</th>\n",
       "      <td>0.0</td>\n",
       "      <td>NaN</td>\n",
       "      <td>NaN</td>\n",
       "      <td>NaN</td>\n",
       "      <td>NaN</td>\n",
       "      <td>NaN</td>\n",
       "      <td>NaN</td>\n",
       "      <td>NaN</td>\n",
       "    </tr>\n",
       "    <tr>\n",
       "      <th>Location</th>\n",
       "      <td>0.0</td>\n",
       "      <td>NaN</td>\n",
       "      <td>NaN</td>\n",
       "      <td>NaN</td>\n",
       "      <td>NaN</td>\n",
       "      <td>NaN</td>\n",
       "      <td>NaN</td>\n",
       "      <td>NaN</td>\n",
       "    </tr>\n",
       "    <tr>\n",
       "      <th>LSOA code</th>\n",
       "      <td>0.0</td>\n",
       "      <td>NaN</td>\n",
       "      <td>NaN</td>\n",
       "      <td>NaN</td>\n",
       "      <td>NaN</td>\n",
       "      <td>NaN</td>\n",
       "      <td>NaN</td>\n",
       "      <td>NaN</td>\n",
       "    </tr>\n",
       "    <tr>\n",
       "      <th>LSOA name</th>\n",
       "      <td>0.0</td>\n",
       "      <td>NaN</td>\n",
       "      <td>NaN</td>\n",
       "      <td>NaN</td>\n",
       "      <td>NaN</td>\n",
       "      <td>NaN</td>\n",
       "      <td>NaN</td>\n",
       "      <td>NaN</td>\n",
       "    </tr>\n",
       "    <tr>\n",
       "      <th>Crime type</th>\n",
       "      <td>0.0</td>\n",
       "      <td>NaN</td>\n",
       "      <td>NaN</td>\n",
       "      <td>NaN</td>\n",
       "      <td>NaN</td>\n",
       "      <td>NaN</td>\n",
       "      <td>NaN</td>\n",
       "      <td>NaN</td>\n",
       "    </tr>\n",
       "    <tr>\n",
       "      <th>Last outcome category</th>\n",
       "      <td>0.0</td>\n",
       "      <td>NaN</td>\n",
       "      <td>NaN</td>\n",
       "      <td>NaN</td>\n",
       "      <td>NaN</td>\n",
       "      <td>NaN</td>\n",
       "      <td>NaN</td>\n",
       "      <td>NaN</td>\n",
       "    </tr>\n",
       "    <tr>\n",
       "      <th>Idnew</th>\n",
       "      <td>0.0</td>\n",
       "      <td>NaN</td>\n",
       "      <td>NaN</td>\n",
       "      <td>NaN</td>\n",
       "      <td>NaN</td>\n",
       "      <td>NaN</td>\n",
       "      <td>NaN</td>\n",
       "      <td>NaN</td>\n",
       "    </tr>\n",
       "    <tr>\n",
       "      <th>cluster_label</th>\n",
       "      <td>0.0</td>\n",
       "      <td>NaN</td>\n",
       "      <td>NaN</td>\n",
       "      <td>NaN</td>\n",
       "      <td>NaN</td>\n",
       "      <td>NaN</td>\n",
       "      <td>NaN</td>\n",
       "      <td>NaN</td>\n",
       "    </tr>\n",
       "  </tbody>\n",
       "</table>\n",
       "</div>"
      ],
      "text/plain": [
       "                       count  mean  std  min  25%  50%  75%  max\n",
       "Crime ID                 0.0   NaN  NaN  NaN  NaN  NaN  NaN  NaN\n",
       "Month                    0.0   NaN  NaN  NaN  NaN  NaN  NaN  NaN\n",
       "Longitude                0.0   NaN  NaN  NaN  NaN  NaN  NaN  NaN\n",
       "Latitude                 0.0   NaN  NaN  NaN  NaN  NaN  NaN  NaN\n",
       "Location                 0.0   NaN  NaN  NaN  NaN  NaN  NaN  NaN\n",
       "LSOA code                0.0   NaN  NaN  NaN  NaN  NaN  NaN  NaN\n",
       "LSOA name                0.0   NaN  NaN  NaN  NaN  NaN  NaN  NaN\n",
       "Crime type               0.0   NaN  NaN  NaN  NaN  NaN  NaN  NaN\n",
       "Last outcome category    0.0   NaN  NaN  NaN  NaN  NaN  NaN  NaN\n",
       "Idnew                    0.0   NaN  NaN  NaN  NaN  NaN  NaN  NaN\n",
       "cluster_label            0.0   NaN  NaN  NaN  NaN  NaN  NaN  NaN"
      ]
     },
     "execution_count": 42,
     "metadata": {},
     "output_type": "execute_result"
    }
   ],
   "source": [
    "df[df['cluster_label']==i].describe().T"
   ]
  },
  {
   "cell_type": "code",
   "execution_count": 43,
   "metadata": {},
   "outputs": [],
   "source": [
    "df.set_index(\"Idnew\",inplace = True)"
   ]
  },
  {
   "cell_type": "code",
   "execution_count": 44,
   "metadata": {},
   "outputs": [
    {
     "data": {
      "text/html": [
       "<div>\n",
       "<style scoped>\n",
       "    .dataframe tbody tr th:only-of-type {\n",
       "        vertical-align: middle;\n",
       "    }\n",
       "\n",
       "    .dataframe tbody tr th {\n",
       "        vertical-align: top;\n",
       "    }\n",
       "\n",
       "    .dataframe thead th {\n",
       "        text-align: right;\n",
       "    }\n",
       "</style>\n",
       "<table border=\"1\" class=\"dataframe\">\n",
       "  <thead>\n",
       "    <tr style=\"text-align: right;\">\n",
       "      <th></th>\n",
       "      <th>Crime ID</th>\n",
       "      <th>Month</th>\n",
       "      <th>Longitude</th>\n",
       "      <th>Latitude</th>\n",
       "      <th>Location</th>\n",
       "      <th>LSOA code</th>\n",
       "      <th>LSOA name</th>\n",
       "      <th>Crime type</th>\n",
       "      <th>Last outcome category</th>\n",
       "      <th>cluster_label</th>\n",
       "    </tr>\n",
       "    <tr>\n",
       "      <th>Idnew</th>\n",
       "      <th></th>\n",
       "      <th></th>\n",
       "      <th></th>\n",
       "      <th></th>\n",
       "      <th></th>\n",
       "      <th></th>\n",
       "      <th></th>\n",
       "      <th></th>\n",
       "      <th></th>\n",
       "      <th></th>\n",
       "    </tr>\n",
       "  </thead>\n",
       "  <tbody>\n",
       "    <tr>\n",
       "      <th>1</th>\n",
       "      <td>20461</td>\n",
       "      <td>0</td>\n",
       "      <td>-1.396795</td>\n",
       "      <td>0.266558</td>\n",
       "      <td>301</td>\n",
       "      <td>6</td>\n",
       "      <td>7</td>\n",
       "      <td>0</td>\n",
       "      <td>1</td>\n",
       "      <td>0</td>\n",
       "    </tr>\n",
       "    <tr>\n",
       "      <th>2</th>\n",
       "      <td>20461</td>\n",
       "      <td>0</td>\n",
       "      <td>-0.511561</td>\n",
       "      <td>0.034322</td>\n",
       "      <td>361</td>\n",
       "      <td>0</td>\n",
       "      <td>10</td>\n",
       "      <td>0</td>\n",
       "      <td>1</td>\n",
       "      <td>2</td>\n",
       "    </tr>\n",
       "    <tr>\n",
       "      <th>3</th>\n",
       "      <td>20461</td>\n",
       "      <td>0</td>\n",
       "      <td>-0.519778</td>\n",
       "      <td>0.498793</td>\n",
       "      <td>166</td>\n",
       "      <td>0</td>\n",
       "      <td>10</td>\n",
       "      <td>0</td>\n",
       "      <td>1</td>\n",
       "      <td>2</td>\n",
       "    </tr>\n",
       "    <tr>\n",
       "      <th>4</th>\n",
       "      <td>20461</td>\n",
       "      <td>0</td>\n",
       "      <td>-0.529303</td>\n",
       "      <td>0.317317</td>\n",
       "      <td>300</td>\n",
       "      <td>0</td>\n",
       "      <td>10</td>\n",
       "      <td>0</td>\n",
       "      <td>1</td>\n",
       "      <td>2</td>\n",
       "    </tr>\n",
       "    <tr>\n",
       "      <th>5</th>\n",
       "      <td>20461</td>\n",
       "      <td>0</td>\n",
       "      <td>-0.511561</td>\n",
       "      <td>0.034322</td>\n",
       "      <td>361</td>\n",
       "      <td>0</td>\n",
       "      <td>10</td>\n",
       "      <td>0</td>\n",
       "      <td>1</td>\n",
       "      <td>2</td>\n",
       "    </tr>\n",
       "    <tr>\n",
       "      <th>...</th>\n",
       "      <td>...</td>\n",
       "      <td>...</td>\n",
       "      <td>...</td>\n",
       "      <td>...</td>\n",
       "      <td>...</td>\n",
       "      <td>...</td>\n",
       "      <td>...</td>\n",
       "      <td>...</td>\n",
       "      <td>...</td>\n",
       "      <td>...</td>\n",
       "    </tr>\n",
       "    <tr>\n",
       "      <th>24888</th>\n",
       "      <td>7209</td>\n",
       "      <td>35</td>\n",
       "      <td>0.639991</td>\n",
       "      <td>-0.469768</td>\n",
       "      <td>160</td>\n",
       "      <td>59</td>\n",
       "      <td>89</td>\n",
       "      <td>6</td>\n",
       "      <td>25</td>\n",
       "      <td>1</td>\n",
       "    </tr>\n",
       "    <tr>\n",
       "      <th>24889</th>\n",
       "      <td>12565</td>\n",
       "      <td>35</td>\n",
       "      <td>0.618140</td>\n",
       "      <td>-0.562296</td>\n",
       "      <td>141</td>\n",
       "      <td>59</td>\n",
       "      <td>89</td>\n",
       "      <td>6</td>\n",
       "      <td>25</td>\n",
       "      <td>1</td>\n",
       "    </tr>\n",
       "    <tr>\n",
       "      <th>24890</th>\n",
       "      <td>18800</td>\n",
       "      <td>35</td>\n",
       "      <td>0.881407</td>\n",
       "      <td>-0.685853</td>\n",
       "      <td>1</td>\n",
       "      <td>59</td>\n",
       "      <td>89</td>\n",
       "      <td>6</td>\n",
       "      <td>25</td>\n",
       "      <td>1</td>\n",
       "    </tr>\n",
       "    <tr>\n",
       "      <th>24891</th>\n",
       "      <td>15644</td>\n",
       "      <td>35</td>\n",
       "      <td>0.881407</td>\n",
       "      <td>-0.685853</td>\n",
       "      <td>1</td>\n",
       "      <td>59</td>\n",
       "      <td>89</td>\n",
       "      <td>6</td>\n",
       "      <td>25</td>\n",
       "      <td>1</td>\n",
       "    </tr>\n",
       "    <tr>\n",
       "      <th>24892</th>\n",
       "      <td>8148</td>\n",
       "      <td>35</td>\n",
       "      <td>0.881407</td>\n",
       "      <td>-0.685853</td>\n",
       "      <td>1</td>\n",
       "      <td>59</td>\n",
       "      <td>89</td>\n",
       "      <td>11</td>\n",
       "      <td>25</td>\n",
       "      <td>1</td>\n",
       "    </tr>\n",
       "  </tbody>\n",
       "</table>\n",
       "<p>23393 rows × 10 columns</p>\n",
       "</div>"
      ],
      "text/plain": [
       "       Crime ID  Month  Longitude  Latitude  Location  LSOA code  LSOA name  \\\n",
       "Idnew                                                                         \n",
       "1         20461      0  -1.396795  0.266558       301          6          7   \n",
       "2         20461      0  -0.511561  0.034322       361          0         10   \n",
       "3         20461      0  -0.519778  0.498793       166          0         10   \n",
       "4         20461      0  -0.529303  0.317317       300          0         10   \n",
       "5         20461      0  -0.511561  0.034322       361          0         10   \n",
       "...         ...    ...        ...       ...       ...        ...        ...   \n",
       "24888      7209     35   0.639991 -0.469768       160         59         89   \n",
       "24889     12565     35   0.618140 -0.562296       141         59         89   \n",
       "24890     18800     35   0.881407 -0.685853         1         59         89   \n",
       "24891     15644     35   0.881407 -0.685853         1         59         89   \n",
       "24892      8148     35   0.881407 -0.685853         1         59         89   \n",
       "\n",
       "       Crime type  Last outcome category  cluster_label  \n",
       "Idnew                                                    \n",
       "1               0                      1              0  \n",
       "2               0                      1              2  \n",
       "3               0                      1              2  \n",
       "4               0                      1              2  \n",
       "5               0                      1              2  \n",
       "...           ...                    ...            ...  \n",
       "24888           6                     25              1  \n",
       "24889           6                     25              1  \n",
       "24890           6                     25              1  \n",
       "24891           6                     25              1  \n",
       "24892          11                     25              1  \n",
       "\n",
       "[23393 rows x 10 columns]"
      ]
     },
     "execution_count": 44,
     "metadata": {},
     "output_type": "execute_result"
    }
   ],
   "source": [
    "df"
   ]
  },
  {
   "cell_type": "code",
   "execution_count": 45,
   "metadata": {},
   "outputs": [],
   "source": [
    "def ckeckPercetClass(input,p25,p50):\n",
    "    cls = 0 \n",
    "    if float(p50) < input :\n",
    "        cls = 2\n",
    "    elif (float(p25) < input) & (float(p50) >= input) :\n",
    "        cls = 1\n",
    "    return cls"
   ]
  },
  {
   "cell_type": "code",
   "execution_count": 46,
   "metadata": {},
   "outputs": [],
   "source": [
    "lsCus = list(df['cluster_label'].unique())\n",
    "counts = len(df)\n",
    "lsCat =[]\n",
    "lsdf =[]\n",
    "for i in lsCus:\n",
    "    status = pd.DataFrame()\n",
    "    status =df[df['cluster_label']==i].describe().T\n",
    "    p25 = status['25%'][7]  #for categorise the crime type\n",
    "    p50 = status['50%'][7] \n",
    "    p75 = status['75%'][7] \n",
    "    #print(i,p25,p50)\n",
    "    lsCat.append([i,p25,p50,p75,counts])\n",
    "    percentage =(df[df['cluster_label']==i]['Crime type'].value_counts()/counts) *100\n",
    "    #status = df[df['cluster_label']==i]['Crime type'].apply(lambda x : ckeckPercetClass(percentage[x],p25,p50)).to_frame()\n",
    "    row_df1 = df[df['cluster_label']==i]['Crime type'].apply(lambda x : ckeckPercetClass(percentage[x],2,6))\n",
    "    for keys,vals in row_df1.items() :\n",
    "        if (keys,vals) not in lsdf:\n",
    "            lsdf.append([keys,vals])"
   ]
  },
  {
   "cell_type": "code",
   "execution_count": 47,
   "metadata": {},
   "outputs": [],
   "source": [
    "dfCat = pd.DataFrame()\n",
    "dfCat = pd.DataFrame(lsdf,columns=[\"Idnew2\",\"Crime Cat\"],)"
   ]
  },
  {
   "cell_type": "code",
   "execution_count": 48,
   "metadata": {},
   "outputs": [],
   "source": [
    "dfCat.set_index(\"Idnew2\",inplace = True)"
   ]
  },
  {
   "cell_type": "code",
   "execution_count": 49,
   "metadata": {},
   "outputs": [
    {
     "data": {
      "text/html": [
       "<div>\n",
       "<style scoped>\n",
       "    .dataframe tbody tr th:only-of-type {\n",
       "        vertical-align: middle;\n",
       "    }\n",
       "\n",
       "    .dataframe tbody tr th {\n",
       "        vertical-align: top;\n",
       "    }\n",
       "\n",
       "    .dataframe thead th {\n",
       "        text-align: right;\n",
       "    }\n",
       "</style>\n",
       "<table border=\"1\" class=\"dataframe\">\n",
       "  <thead>\n",
       "    <tr style=\"text-align: right;\">\n",
       "      <th></th>\n",
       "      <th>Crime Cat</th>\n",
       "    </tr>\n",
       "    <tr>\n",
       "      <th>Idnew2</th>\n",
       "      <th></th>\n",
       "    </tr>\n",
       "  </thead>\n",
       "  <tbody>\n",
       "    <tr>\n",
       "      <th>1</th>\n",
       "      <td>1</td>\n",
       "    </tr>\n",
       "    <tr>\n",
       "      <th>110</th>\n",
       "      <td>1</td>\n",
       "    </tr>\n",
       "    <tr>\n",
       "      <th>120</th>\n",
       "      <td>1</td>\n",
       "    </tr>\n",
       "    <tr>\n",
       "      <th>143</th>\n",
       "      <td>1</td>\n",
       "    </tr>\n",
       "    <tr>\n",
       "      <th>144</th>\n",
       "      <td>1</td>\n",
       "    </tr>\n",
       "    <tr>\n",
       "      <th>...</th>\n",
       "      <td>...</td>\n",
       "    </tr>\n",
       "    <tr>\n",
       "      <th>24888</th>\n",
       "      <td>2</td>\n",
       "    </tr>\n",
       "    <tr>\n",
       "      <th>24889</th>\n",
       "      <td>2</td>\n",
       "    </tr>\n",
       "    <tr>\n",
       "      <th>24890</th>\n",
       "      <td>2</td>\n",
       "    </tr>\n",
       "    <tr>\n",
       "      <th>24891</th>\n",
       "      <td>2</td>\n",
       "    </tr>\n",
       "    <tr>\n",
       "      <th>24892</th>\n",
       "      <td>1</td>\n",
       "    </tr>\n",
       "  </tbody>\n",
       "</table>\n",
       "<p>23393 rows × 1 columns</p>\n",
       "</div>"
      ],
      "text/plain": [
       "        Crime Cat\n",
       "Idnew2           \n",
       "1               1\n",
       "110             1\n",
       "120             1\n",
       "143             1\n",
       "144             1\n",
       "...           ...\n",
       "24888           2\n",
       "24889           2\n",
       "24890           2\n",
       "24891           2\n",
       "24892           1\n",
       "\n",
       "[23393 rows x 1 columns]"
      ]
     },
     "execution_count": 49,
     "metadata": {},
     "output_type": "execute_result"
    }
   ],
   "source": [
    "#df = 23393\n",
    "dfCat[dfCat.notna()]"
   ]
  },
  {
   "cell_type": "code",
   "execution_count": 50,
   "metadata": {},
   "outputs": [
    {
     "data": {
      "text/html": [
       "<div>\n",
       "<style scoped>\n",
       "    .dataframe tbody tr th:only-of-type {\n",
       "        vertical-align: middle;\n",
       "    }\n",
       "\n",
       "    .dataframe tbody tr th {\n",
       "        vertical-align: top;\n",
       "    }\n",
       "\n",
       "    .dataframe thead th {\n",
       "        text-align: right;\n",
       "    }\n",
       "</style>\n",
       "<table border=\"1\" class=\"dataframe\">\n",
       "  <thead>\n",
       "    <tr style=\"text-align: right;\">\n",
       "      <th></th>\n",
       "      <th>Crime ID</th>\n",
       "      <th>Month</th>\n",
       "      <th>Longitude</th>\n",
       "      <th>Latitude</th>\n",
       "      <th>Location</th>\n",
       "      <th>LSOA code</th>\n",
       "      <th>LSOA name</th>\n",
       "      <th>Crime type</th>\n",
       "      <th>Last outcome category</th>\n",
       "      <th>cluster_label</th>\n",
       "      <th>Crime Cat</th>\n",
       "    </tr>\n",
       "  </thead>\n",
       "  <tbody>\n",
       "    <tr>\n",
       "      <th>1</th>\n",
       "      <td>20461</td>\n",
       "      <td>0</td>\n",
       "      <td>-1.396795</td>\n",
       "      <td>0.266558</td>\n",
       "      <td>301</td>\n",
       "      <td>6</td>\n",
       "      <td>7</td>\n",
       "      <td>0</td>\n",
       "      <td>1</td>\n",
       "      <td>0</td>\n",
       "      <td>1</td>\n",
       "    </tr>\n",
       "    <tr>\n",
       "      <th>2</th>\n",
       "      <td>20461</td>\n",
       "      <td>0</td>\n",
       "      <td>-0.511561</td>\n",
       "      <td>0.034322</td>\n",
       "      <td>361</td>\n",
       "      <td>0</td>\n",
       "      <td>10</td>\n",
       "      <td>0</td>\n",
       "      <td>1</td>\n",
       "      <td>2</td>\n",
       "      <td>1</td>\n",
       "    </tr>\n",
       "    <tr>\n",
       "      <th>3</th>\n",
       "      <td>20461</td>\n",
       "      <td>0</td>\n",
       "      <td>-0.519778</td>\n",
       "      <td>0.498793</td>\n",
       "      <td>166</td>\n",
       "      <td>0</td>\n",
       "      <td>10</td>\n",
       "      <td>0</td>\n",
       "      <td>1</td>\n",
       "      <td>2</td>\n",
       "      <td>1</td>\n",
       "    </tr>\n",
       "    <tr>\n",
       "      <th>4</th>\n",
       "      <td>20461</td>\n",
       "      <td>0</td>\n",
       "      <td>-0.529303</td>\n",
       "      <td>0.317317</td>\n",
       "      <td>300</td>\n",
       "      <td>0</td>\n",
       "      <td>10</td>\n",
       "      <td>0</td>\n",
       "      <td>1</td>\n",
       "      <td>2</td>\n",
       "      <td>1</td>\n",
       "    </tr>\n",
       "    <tr>\n",
       "      <th>5</th>\n",
       "      <td>20461</td>\n",
       "      <td>0</td>\n",
       "      <td>-0.511561</td>\n",
       "      <td>0.034322</td>\n",
       "      <td>361</td>\n",
       "      <td>0</td>\n",
       "      <td>10</td>\n",
       "      <td>0</td>\n",
       "      <td>1</td>\n",
       "      <td>2</td>\n",
       "      <td>1</td>\n",
       "    </tr>\n",
       "    <tr>\n",
       "      <th>...</th>\n",
       "      <td>...</td>\n",
       "      <td>...</td>\n",
       "      <td>...</td>\n",
       "      <td>...</td>\n",
       "      <td>...</td>\n",
       "      <td>...</td>\n",
       "      <td>...</td>\n",
       "      <td>...</td>\n",
       "      <td>...</td>\n",
       "      <td>...</td>\n",
       "      <td>...</td>\n",
       "    </tr>\n",
       "    <tr>\n",
       "      <th>24888</th>\n",
       "      <td>7209</td>\n",
       "      <td>35</td>\n",
       "      <td>0.639991</td>\n",
       "      <td>-0.469768</td>\n",
       "      <td>160</td>\n",
       "      <td>59</td>\n",
       "      <td>89</td>\n",
       "      <td>6</td>\n",
       "      <td>25</td>\n",
       "      <td>1</td>\n",
       "      <td>2</td>\n",
       "    </tr>\n",
       "    <tr>\n",
       "      <th>24889</th>\n",
       "      <td>12565</td>\n",
       "      <td>35</td>\n",
       "      <td>0.618140</td>\n",
       "      <td>-0.562296</td>\n",
       "      <td>141</td>\n",
       "      <td>59</td>\n",
       "      <td>89</td>\n",
       "      <td>6</td>\n",
       "      <td>25</td>\n",
       "      <td>1</td>\n",
       "      <td>2</td>\n",
       "    </tr>\n",
       "    <tr>\n",
       "      <th>24890</th>\n",
       "      <td>18800</td>\n",
       "      <td>35</td>\n",
       "      <td>0.881407</td>\n",
       "      <td>-0.685853</td>\n",
       "      <td>1</td>\n",
       "      <td>59</td>\n",
       "      <td>89</td>\n",
       "      <td>6</td>\n",
       "      <td>25</td>\n",
       "      <td>1</td>\n",
       "      <td>2</td>\n",
       "    </tr>\n",
       "    <tr>\n",
       "      <th>24891</th>\n",
       "      <td>15644</td>\n",
       "      <td>35</td>\n",
       "      <td>0.881407</td>\n",
       "      <td>-0.685853</td>\n",
       "      <td>1</td>\n",
       "      <td>59</td>\n",
       "      <td>89</td>\n",
       "      <td>6</td>\n",
       "      <td>25</td>\n",
       "      <td>1</td>\n",
       "      <td>2</td>\n",
       "    </tr>\n",
       "    <tr>\n",
       "      <th>24892</th>\n",
       "      <td>8148</td>\n",
       "      <td>35</td>\n",
       "      <td>0.881407</td>\n",
       "      <td>-0.685853</td>\n",
       "      <td>1</td>\n",
       "      <td>59</td>\n",
       "      <td>89</td>\n",
       "      <td>11</td>\n",
       "      <td>25</td>\n",
       "      <td>1</td>\n",
       "      <td>1</td>\n",
       "    </tr>\n",
       "  </tbody>\n",
       "</table>\n",
       "<p>23393 rows × 11 columns</p>\n",
       "</div>"
      ],
      "text/plain": [
       "       Crime ID  Month  Longitude  Latitude  Location  LSOA code  LSOA name  \\\n",
       "1         20461      0  -1.396795  0.266558       301          6          7   \n",
       "2         20461      0  -0.511561  0.034322       361          0         10   \n",
       "3         20461      0  -0.519778  0.498793       166          0         10   \n",
       "4         20461      0  -0.529303  0.317317       300          0         10   \n",
       "5         20461      0  -0.511561  0.034322       361          0         10   \n",
       "...         ...    ...        ...       ...       ...        ...        ...   \n",
       "24888      7209     35   0.639991 -0.469768       160         59         89   \n",
       "24889     12565     35   0.618140 -0.562296       141         59         89   \n",
       "24890     18800     35   0.881407 -0.685853         1         59         89   \n",
       "24891     15644     35   0.881407 -0.685853         1         59         89   \n",
       "24892      8148     35   0.881407 -0.685853         1         59         89   \n",
       "\n",
       "       Crime type  Last outcome category  cluster_label  Crime Cat  \n",
       "1               0                      1              0          1  \n",
       "2               0                      1              2          1  \n",
       "3               0                      1              2          1  \n",
       "4               0                      1              2          1  \n",
       "5               0                      1              2          1  \n",
       "...           ...                    ...            ...        ...  \n",
       "24888           6                     25              1          2  \n",
       "24889           6                     25              1          2  \n",
       "24890           6                     25              1          2  \n",
       "24891           6                     25              1          2  \n",
       "24892          11                     25              1          1  \n",
       "\n",
       "[23393 rows x 11 columns]"
      ]
     },
     "execution_count": 50,
     "metadata": {},
     "output_type": "execute_result"
    }
   ],
   "source": [
    "crime = pd.merge(df,dfCat, left_index=True, right_index=True)\n",
    "crime"
   ]
  },
  {
   "cell_type": "code",
   "execution_count": 51,
   "metadata": {},
   "outputs": [
    {
     "name": "stdout",
     "output_type": "stream",
     "text": [
      "<class 'pandas.core.frame.DataFrame'>\n",
      "Int64Index: 23393 entries, 1 to 24892\n",
      "Data columns (total 11 columns):\n",
      " #   Column                 Non-Null Count  Dtype  \n",
      "---  ------                 --------------  -----  \n",
      " 0   Crime ID               23393 non-null  int32  \n",
      " 1   Month                  23393 non-null  int32  \n",
      " 2   Longitude              23393 non-null  float64\n",
      " 3   Latitude               23393 non-null  float64\n",
      " 4   Location               23393 non-null  int32  \n",
      " 5   LSOA code              23393 non-null  int32  \n",
      " 6   LSOA name              23393 non-null  int32  \n",
      " 7   Crime type             23393 non-null  int32  \n",
      " 8   Last outcome category  23393 non-null  int32  \n",
      " 9   cluster_label          23393 non-null  int32  \n",
      " 10  Crime Cat              23393 non-null  int64  \n",
      "dtypes: float64(2), int32(8), int64(1)\n",
      "memory usage: 1.4 MB\n"
     ]
    }
   ],
   "source": [
    "crime.info()"
   ]
  },
  {
   "cell_type": "markdown",
   "metadata": {},
   "source": [
    "Q. Split the data for TRAINING and SCORING (testing). OPTIONAL: Discuss what problems could happen we have poor distribution b/w training and testing?"
   ]
  },
  {
   "cell_type": "code",
   "execution_count": 52,
   "metadata": {},
   "outputs": [],
   "source": [
    "x = crime.iloc[: ,2:10]                              #input\n",
    "y = crime.loc[:,[\"Crime Cat\"]]   "
   ]
  },
  {
   "cell_type": "code",
   "execution_count": 53,
   "metadata": {},
   "outputs": [],
   "source": [
    "#separate data from training and testing\n",
    "from sklearn.model_selection import train_test_split\n",
    "xtrain,xtest, ytrain,ytest = train_test_split(x, y, test_size=0.2)"
   ]
  },
  {
   "cell_type": "markdown",
   "metadata": {
    "id": "s5jKhdFd55WJ"
   },
   "source": [
    "# Part 3: Model Selection"
   ]
  },
  {
   "cell_type": "code",
   "execution_count": 54,
   "metadata": {},
   "outputs": [
    {
     "name": "stdout",
     "output_type": "stream",
     "text": [
      "0.9944432571062193\n",
      "0.9961530241504595\n",
      "0.5672152169266937\n",
      "0.99957255823894\n",
      "0.8621500320581321\n",
      "0.43876896772814705\n"
     ]
    },
    {
     "name": "stderr",
     "output_type": "stream",
     "text": [
      "C:\\Users\\nitta\\Documents\\Anaconda3\\lib\\site-packages\\sklearn\\svm\\_base.py:985: ConvergenceWarning: Liblinear failed to converge, increase the number of iterations.\n",
      "  warnings.warn(\"Liblinear failed to converge, increase \"\n"
     ]
    }
   ],
   "source": [
    "from sklearn.tree import DecisionTreeClassifier\n",
    "from sklearn.neighbors import KNeighborsClassifier\n",
    "from sklearn.svm import LinearSVC\n",
    "from sklearn.naive_bayes import GaussianNB\n",
    "from sklearn.ensemble import RandomForestClassifier\n",
    "from sklearn.metrics import accuracy_score\n",
    "# HYPERPARAMETERS-> these are 2 diff HPs for Random Forest \n",
    "# SAME algo could also give 2 diff models!\n",
    "ntree1, ntree2 = 50,100\n",
    "for algo in [RandomForestClassifier(n_estimators=ntree1), RandomForestClassifier(n_estimators=ntree2), GaussianNB(), DecisionTreeClassifier(), KNeighborsClassifier(), LinearSVC()]:\n",
    "  model3 = algo\n",
    "  model3.fit(xtrain, ytrain.values.ravel())\n",
    "  predictions = model3.predict(xtest)\n",
    "  print(accuracy_score(predictions, ytest))"
   ]
  },
  {
   "cell_type": "markdown",
   "metadata": {
    "id": "bosw1yWg55WJ"
   },
   "source": [
    "### Q. Use the cheat sheet below to choose the algorithm/estimator suitable for building a model to address your candidate question(s)\n",
    "\n",
    "* https://scikit-learn.org/stable/tutorial/machine_learning_map/"
   ]
  },
  {
   "cell_type": "code",
   "execution_count": 55,
   "metadata": {
    "id": "39bauCNWR2ve"
   },
   "outputs": [
    {
     "name": "stderr",
     "output_type": "stream",
     "text": [
      "C:\\Users\\nitta\\AppData\\Local\\Temp/ipykernel_7164/1422515168.py:4: DataConversionWarning: A column-vector y was passed when a 1d array was expected. Please change the shape of y to (n_samples,), for example using ravel().\n",
      "  final_model.fit(xtrain,ytrain)\n"
     ]
    }
   ],
   "source": [
    "#Classufication : Navie Bayes\n",
    "from sklearn.naive_bayes import GaussianNB\n",
    "final_model = RandomForestClassifier()\n",
    "final_model.fit(xtrain,ytrain)\n",
    "p = final_model.predict(xtest)"
   ]
  },
  {
   "cell_type": "markdown",
   "metadata": {
    "id": "6SK8nej055WJ"
   },
   "source": []
  },
  {
   "cell_type": "markdown",
   "metadata": {
    "id": "gB-pblb255WJ"
   },
   "source": [
    "# Part 4: Model Evaluation"
   ]
  },
  {
   "cell_type": "markdown",
   "metadata": {
    "id": "w231rWpm55WK"
   },
   "source": [
    "### Q. Identify which of the statistical measures below are suitable for the evaluation of your model.\n",
    "\n",
    "Classification Metrics:\n",
    "* Accuracy\n",
    "* Precision\n",
    "* Recall\n",
    "* F1 Score\n",
    "\n",
    "Regression Metrics:\n",
    "    \n",
    "* Mean absolute error (MAE)\n",
    "* Root mean squared error (RMSE)\n",
    "* Relative absolute error (RAE)\n",
    "* Relative squared error (RSE)\n",
    "* Mean Zero One Error (MZOE)\n",
    "* Coefficient of determination\n",
    "\n",
    " "
   ]
  },
  {
   "cell_type": "code",
   "execution_count": 56,
   "metadata": {
    "id": "MKlEwnam55WK"
   },
   "outputs": [
    {
     "name": "stdout",
     "output_type": "stream",
     "text": [
      "0.9959393032699295\n"
     ]
    }
   ],
   "source": [
    "#Accuracy\n",
    "print(accuracy_score(p, ytest))"
   ]
  },
  {
   "cell_type": "markdown",
   "metadata": {
    "id": "V_GR5s4K55WK"
   },
   "source": [
    "# Part 5: Stretch - Model Deployment"
   ]
  },
  {
   "cell_type": "markdown",
   "metadata": {
    "id": "0g_JJnoh55WL"
   },
   "source": [
    "### Q. Evaluate the open-source app framework for Machine Learning model deployment below in your own time.\n",
    "\n",
    "* https://streamlit.io/"
   ]
  },
  {
   "cell_type": "code",
   "execution_count": 57,
   "metadata": {
    "id": "ghIEovDv55WL"
   },
   "outputs": [
    {
     "data": {
      "text/plain": [
       "['MLLondonCrimeSt.joblib']"
      ]
     },
     "execution_count": 57,
     "metadata": {},
     "output_type": "execute_result"
    }
   ],
   "source": [
    "from joblib import dump\n",
    "dump(final_model, 'MLLondonCrimeSt.joblib') "
   ]
  },
  {
   "cell_type": "code",
   "execution_count": 58,
   "metadata": {
    "id": "mS9l7kc09sse"
   },
   "outputs": [
    {
     "data": {
      "text/plain": [
       "'0.24.2'"
      ]
     },
     "execution_count": 58,
     "metadata": {},
     "output_type": "execute_result"
    }
   ],
   "source": [
    "import sklearn\n",
    "sklearn.__version__"
   ]
  },
  {
   "cell_type": "code",
   "execution_count": null,
   "metadata": {},
   "outputs": [],
   "source": []
  }
 ],
 "metadata": {
  "colab": {
   "name": "Choosing the right estimator Enhanced.ipynb",
   "provenance": []
  },
  "kernelspec": {
   "display_name": "Python 3 (ipykernel)",
   "language": "python",
   "name": "python3"
  },
  "language_info": {
   "codemirror_mode": {
    "name": "ipython",
    "version": 3
   },
   "file_extension": ".py",
   "mimetype": "text/x-python",
   "name": "python",
   "nbconvert_exporter": "python",
   "pygments_lexer": "ipython3",
   "version": "3.9.7"
  }
 },
 "nbformat": 4,
 "nbformat_minor": 4
}
